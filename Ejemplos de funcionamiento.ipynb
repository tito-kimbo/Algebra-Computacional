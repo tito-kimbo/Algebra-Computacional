{
 "cells": [
  {
   "cell_type": "markdown",
   "metadata": {},
   "source": [
    "En este archivo se muestran algunos de los ejemplos de funcionamiento de la biblioteca de álgebra computacional que hemos construido."
   ]
  },
  {
   "cell_type": "code",
   "execution_count": 1,
   "metadata": {},
   "outputs": [],
   "source": [
    "from python_alcp import algorithms, examples, structures, utils\n",
    "from IPython.display import Math,display"
   ]
  },
  {
   "cell_type": "markdown",
   "metadata": {},
   "source": [
    "# Estructuras"
   ]
  },
  {
   "cell_type": "markdown",
   "metadata": {},
   "source": [
    "## Anillos"
   ]
  },
  {
   "cell_type": "code",
   "execution_count": 2,
   "metadata": {},
   "outputs": [
    {
     "name": "stdout",
     "output_type": "stream",
     "text": [
      "ℤ es un anillo. Algunos de sus elementos son  0 1 -1\n"
     ]
    }
   ],
   "source": [
    "Z = examples.rings.Z\n",
    "print(Z, \"es un anillo. Algunos de sus elementos son \",Z.build(0),Z.build(1),Z.build(-1))"
   ]
  },
  {
   "cell_type": "markdown",
   "metadata": {},
   "source": [
    "## Ideales"
   ]
  },
  {
   "cell_type": "code",
   "execution_count": 3,
   "metadata": {},
   "outputs": [
    {
     "name": "stdout",
     "output_type": "stream",
     "text": [
      "7ℤ es maximal? True\n"
     ]
    }
   ],
   "source": [
    "Z7 = Z*7\n",
    "print(Z7,'es maximal?', Z7.is_maximal())"
   ]
  },
  {
   "cell_type": "markdown",
   "metadata": {},
   "source": [
    "## Cocientes"
   ]
  },
  {
   "cell_type": "code",
   "execution_count": 4,
   "metadata": {},
   "outputs": [
    {
     "name": "stdout",
     "output_type": "stream",
     "text": [
      "Algunas operaciones en (ℤ/7ℤ)\n",
      "[15]+[2]= 3\n",
      "[3]+[4]= 0\n",
      "[171]+[324]= 5\n",
      "[33]+[13]= 4\n"
     ]
    }
   ],
   "source": [
    "Z_7Z = Z/Z7\n",
    "print(\"Algunas operaciones en\",Z_7Z)\n",
    "print(\"[15]+[2]=\",Z_7Z.build(15)+Z_7Z.build(2))\n",
    "print(\"[3]+[4]=\",Z_7Z.build(3)+Z_7Z.build(4))\n",
    "print(\"[171]+[324]=\",Z_7Z.build(171)+Z_7Z.build(324))\n",
    "print(\"[33]+[13]=\",Z_7Z.build(33)+Z_7Z.build(13))"
   ]
  },
  {
   "cell_type": "markdown",
   "metadata": {},
   "source": [
    "## Polinomios"
   ]
  },
  {
   "cell_type": "code",
   "execution_count": 5,
   "metadata": {},
   "outputs": [
    {
     "data": {
      "text/plain": [
       "ℤ[X]"
      ]
     },
     "execution_count": 5,
     "metadata": {},
     "output_type": "execute_result"
    }
   ],
   "source": [
    "Z_X = Z[\"X\"]\n",
    "Z_X"
   ]
  },
  {
   "cell_type": "code",
   "execution_count": 6,
   "metadata": {},
   "outputs": [
    {
     "name": "stdout",
     "output_type": "stream",
     "text": [
      "Polinomio 1: 3X³ + 2X² + X\n",
      "Polinomio 2: 5X² + 4X + 2\n",
      "P1+P2= 3X³ + 7X² + 5X + 2\n",
      "P1-P2= 3X³ + -3X² + -3X + -2\n",
      "P1*P2= 15X⁵ + 22X⁴ + 19X³ + 8X² + 2X\n",
      "P1^2= 9X⁶ + 12X⁵ + 10X⁴ + 4X³ + X²\n",
      "La division no está definida en {Z_X}, pero sí la pseudodivisión\n",
      "P1//P2 -> Division undefined for 3X³ + 2X² + X and 5X² + 4X + 2 in ℤ\n",
      "pseudo(P1//P2) = 15X + -2\n",
      "pseudo(P1 mod P2) = 3X + 4\n"
     ]
    }
   ],
   "source": [
    "P1,P2 = Z_X.build([0,1,2,3]),Z_X.build([2,4,5])\n",
    "poldiv = structures.polynomials.polynomial_division\n",
    "print(\"Polinomio 1:\",P1)\n",
    "print(\"Polinomio 2:\",P2)\n",
    "print(\"P1+P2=\",P1+P2)\n",
    "print(\"P1-P2=\",P1-P2)\n",
    "print(\"P1*P2=\",P1*P2)\n",
    "print(\"P1^2=\",P1**2)\n",
    "print(\"La division no está definida en {Z_X}, pero sí la pseudodivisión\")\n",
    "try:\n",
    "    P1//P2\n",
    "except ValueError as e:\n",
    "    print(f\"P1//P2 ->\", e)\n",
    "quot, rem = poldiv(P1,P2, pseudo=True)\n",
    "print(\"pseudo(P1//P2) =\",quot)\n",
    "print(\"pseudo(P1 mod P2) =\",rem)"
   ]
  },
  {
   "cell_type": "markdown",
   "metadata": {},
   "source": [
    "## Cuerpos finitos"
   ]
  },
  {
   "cell_type": "code",
   "execution_count": 7,
   "metadata": {},
   "outputs": [
    {
     "name": "stdout",
     "output_type": "stream",
     "text": [
      "(ℤ/7ℤ)\n",
      "El cuerpo finito de 7 elementos (ℤ/7ℤ) está generado por 2\n"
     ]
    }
   ],
   "source": [
    "F7 = examples.finite_fields.FiniteField(7)\n",
    "print(F7)\n",
    "print('El cuerpo finito de 7 elementos',F7,'está generado por',F7.generator())"
   ]
  },
  {
   "cell_type": "code",
   "execution_count": 8,
   "metadata": {},
   "outputs": [
    {
     "name": "stdout",
     "output_type": "stream",
     "text": [
      "Podemos construir el cuerpo finito de 49 elementos como (ℤ/7ℤ)/(x²+1)\n",
      "Warning: building FF49 with a non-primitive polynomial\n",
      "Sin embargo, ese polinomio no es primitivo (la clase de X no genera F49*)\n",
      "X^24 = 1\n",
      "x² + 2x + 3 sí es primitivo\n",
      "El cuerpo finito de 49 elementos ((ℤ/7ℤ)[X]/(X² + 2X + 3)(ℤ/7ℤ)[X]) está generado por X\n",
      "Efectivamente, el orden de X es 48\n",
      "Es ((ℤ/7ℤ)[X]/(X² + 2X + 3)(ℤ/7ℤ)[X]) un cuerpo? True\n"
     ]
    }
   ],
   "source": [
    "print(f\"Podemos construir el cuerpo finito de 49 elementos como {F7}/(x²+1)\")\n",
    "F49 = examples.finite_fields.FiniteField(7, [1,0,1])\n",
    "print(\"Sin embargo, ese polinomio no es primitivo (la clase de X no genera F49*)\")\n",
    "print(f\"X^24 = {F49.generator()**24}\")\n",
    "print(\"x² + 2x + 3 sí es primitivo\")\n",
    "F49 = examples.finite_fields.FiniteField(7, [3,2,1])\n",
    "print('El cuerpo finito de 49 elementos',F49,'está generado por',F49.generator())\n",
    "print(f\"Efectivamente, el orden de {F49.generator()} es {len(set([F49.generator()**i for i in range(48)]))}\")\n",
    "print(f\"Es {F49} un cuerpo? {F49.is_field()}\")"
   ]
  },
  {
   "cell_type": "markdown",
   "metadata": {},
   "source": [
    "# Algoritmos"
   ]
  },
  {
   "cell_type": "markdown",
   "metadata": {},
   "source": [
    "## Divisibilidad"
   ]
  },
  {
   "cell_type": "markdown",
   "metadata": {},
   "source": [
    "### Máximo común divisor"
   ]
  },
  {
   "cell_type": "code",
   "execution_count": 9,
   "metadata": {},
   "outputs": [
    {
     "name": "stdout",
     "output_type": "stream",
     "text": [
      "mcd(18,300) = 6\n",
      "mcd(18,30) = 6\n",
      "mcd(18,50) = 2\n",
      "mcd(300,18) = 6\n",
      "mcd(300,30) = 30\n",
      "mcd(300,50) = 50\n",
      "mcd(30,18) = 6\n",
      "mcd(30,300) = 30\n",
      "mcd(30,50) = 10\n",
      "mcd(50,18) = 2\n",
      "mcd(50,300) = 50\n",
      "mcd(50,30) = 10\n"
     ]
    }
   ],
   "source": [
    "gcd = algorithms.divisibility.gcd\n",
    "\n",
    "# 18 = 2 * 3^2\n",
    "# 300 = 2^2 * 3 * 5^2\n",
    "# 30 = 2 * 3 * 5\n",
    "# 50 = 2 * 5^2\n",
    "\n",
    "# Example in Z\n",
    "l = [Z.build(18),Z.build(300),Z.build(30),Z.build(50)]\n",
    "for x in l:\n",
    "    for y in l:\n",
    "        if x != y:\n",
    "            str1 = ''.join(['mcd(',str(x),',',str(y),') ='])\n",
    "            print(str1,gcd(x,y))"
   ]
  },
  {
   "cell_type": "code",
   "execution_count": 10,
   "metadata": {},
   "outputs": [
    {
     "name": "stdout",
     "output_type": "stream",
     "text": [
      "mcd(18,300) = 6\n",
      "mcd(18,30) = 6\n",
      "mcd(18,50) = 2\n",
      "mcd(300,18) = 6\n",
      "mcd(300,30) = 30\n",
      "mcd(300,50) = 50\n",
      "mcd(30,18) = 6\n",
      "mcd(30,300) = 30\n",
      "mcd(30,50) = 10\n",
      "mcd(50,18) = 2\n",
      "mcd(50,300) = 50\n",
      "mcd(50,30) = 10\n"
     ]
    }
   ],
   "source": [
    "from python_alcp import algorithms\n",
    "binary_gcd = algorithms.divisibility.binary_gcd\n",
    "\n",
    "l = [Z.build(18),Z.build(300),Z.build(30),Z.build(50)]\n",
    "for x in l:\n",
    "    for y in l:\n",
    "        if x != y:\n",
    "            str1 = ''.join(['mcd(',str(x),',',str(y),') ='])\n",
    "            print(str1, binary_gcd(x,y))"
   ]
  },
  {
   "cell_type": "markdown",
   "metadata": {},
   "source": [
    "### Algoritmo de Euclides extendido"
   ]
  },
  {
   "cell_type": "code",
   "execution_count": 11,
   "metadata": {},
   "outputs": [
    {
     "name": "stdout",
     "output_type": "stream",
     "text": [
      "MCD(x,y)         |  Identidad Bézout\n",
      "--------------------------------------\n",
      "mcd(3,3) = 3     |  0 x + 1 y = 3\n",
      "mcd(3,25) = 1    |  -8 x + 1 y = 1\n",
      "mcd(3,72) = 3    |  1 x + 0 y = 3\n",
      "mcd(25,3) = 1    |  1 x + -8 y = 1\n",
      "mcd(25,25) = 25  |  0 x + 1 y = 25\n",
      "mcd(25,72) = 1   |  -23 x + 8 y = 1\n",
      "mcd(72,3) = 3    |  0 x + 1 y = 3\n",
      "mcd(72,25) = 1   |  8 x + -23 y = 1\n",
      "mcd(72,72) = 72  |  0 x + 1 y = 72\n"
     ]
    }
   ],
   "source": [
    "eea = algorithms.divisibility.eea\n",
    "\n",
    "l = [Z.build(3),Z.build(25),Z.build(72)]\n",
    "\n",
    "print('MCD(x,y)'.ljust(15), ' | ', 'Identidad Bézout')\n",
    "print(''.ljust(38,'-'))\n",
    "for x in l:\n",
    "    for y in l:\n",
    "        g,a,b = eea(x,y)\n",
    "        str1 = ''.join(['mcd(',str(x),',',str(y),') = ',str(g)]).ljust(15)\n",
    "        print(str1,' | ',a,'x','+',b,'y =',g)"
   ]
  },
  {
   "cell_type": "markdown",
   "metadata": {},
   "source": [
    "### MCD en un DFU"
   ]
  },
  {
   "cell_type": "code",
   "execution_count": 12,
   "metadata": {},
   "outputs": [
    {
     "name": "stdout",
     "output_type": "stream",
     "text": [
      "P1 = X⁸ + 2X⁷ + 4X⁶ + -2X⁵ + -3X⁴ + 4X³ + 9X² + -2X + -5\n",
      "P2 = 5X⁵ + -2X⁴ + -13X³ + -11X² + 7X + 6\n",
      "gcd_dfu(P1,P2) = X³ + X² + -1\n",
      "gcd(P1,P2) -> Division undefined for X⁸ + 2X⁷ + 4X⁶ + -2X⁵ + -3X⁴ + 4X³ + 9X² + -2X + -5 and 5X⁵ + -2X⁴ + -13X³ + -11X² + 7X + 6 in ℤ\n",
      "\n",
      "\n",
      "P1 = X⁴ + -11X³ + -3X² + 287X + -490\n",
      "P2 = X⁶ + -29X⁵ + 316X⁴ + -1550X³ + 2941X² + 427X + -4410\n",
      "gcd_dfu(P1,P2) = X³ + -16X² + 77X + -98\n",
      "\n",
      "\n",
      "P1 = X⁷ + -28X⁶ + 322X⁵ + -1960X⁴ + 6769X³ + -13132X² + 13068X + -5040\n",
      "P2 = X⁷ + 28X⁶ + 322X⁵ + 1960X⁴ + 6769X³ + 13132X² + 13068X + 5040\n",
      "gcd_dfu(P1,P2) = 1\n"
     ]
    }
   ],
   "source": [
    "gcd_dfu = algorithms.gcd_dfu.gcd_dfu\n",
    "gcd = algorithms.divisibility.gcd\n",
    "\n",
    "# Ejemplo 2.1.11\n",
    "P1 = Z_X(-5,-2,9,4,-3,-2,4,2,1)\n",
    "P2 = Z_X(6,7,-11,-13,-2,5)\n",
    "\n",
    "print(\"P1 =\",P1)\n",
    "print(\"P2 =\",P2)\n",
    "print(\"gcd_dfu(P1,P2) =\",gcd_dfu(P1,P2)) #Tiene que salir x^3 + x^2 - 1\n",
    "try:\n",
    "    gcd(P1,P2)\n",
    "except ValueError as e:\n",
    "    print(f\"gcd(P1,P2) -> {e}\")\n",
    "    \n",
    "print(\"\\n\")\n",
    "\n",
    "P1 = Z_X(-490,287,-3,-11,1)              #(x+5) (x-7)^2 (x-2)\n",
    "P2 = Z_X(-4410,427,2941,-1550,316,-29,1) #(x-5) (x-7)^2 (x-2) (x+1) (x-9)\n",
    "\n",
    "print(\"P1 =\",P1)\n",
    "print(\"P2 =\",P2)\n",
    "print(\"gcd_dfu(P1,P2) =\",gcd_dfu(P1,P2)) #Tiene que salir x^3 - 16x^2 + 77x - 98\n",
    "\n",
    "print(\"\\n\")\n",
    "\n",
    "P1 = Z_X(-5040,13068,-13132,6769,-1960,322,-28,1) # (x-1) (x-2) ... (x-7)\n",
    "P2 = Z_X(5040,13068,13132,6769,1960,322,28,1) # (x+1) (x+2) ... (x+7)\n",
    "\n",
    "print(\"P1 =\",P1)\n",
    "print(\"P2 =\",P2)\n",
    "print(\"gcd_dfu(P1,P2) =\",gcd_dfu(P1,P2)) #Tiene que salir 1"
   ]
  },
  {
   "cell_type": "markdown",
   "metadata": {},
   "source": [
    "## Congruencias"
   ]
  },
  {
   "cell_type": "markdown",
   "metadata": {},
   "source": [
    "### Teorema chino de los restos"
   ]
  },
  {
   "cell_type": "code",
   "execution_count": 13,
   "metadata": {},
   "outputs": [],
   "source": [
    "ch_remainder = algorithms.chinese_remainder.chinese_remainder\n",
    "\n",
    "def show_and_solve(l,mods):\n",
    "    for i in range(len(l)):\n",
    "        s = r''.join(['$x \\equiv ', str(l[i]), '\\;\\mod{', str(mods[i]), '}$'])\n",
    "        display(Math(s))\n",
    "    print(''.ljust(38,'-'))\n",
    "    display(Math(''.join([\"$\\mathbf{Solución} \\quad x =\",str(ch_remainder(eqs,mods)),'$'])))\n",
    "    "
   ]
  },
  {
   "cell_type": "code",
   "execution_count": 14,
   "metadata": {},
   "outputs": [
    {
     "data": {
      "text/latex": [
       "$\\displaystyle x \\equiv 2\\;\\mod{7}$"
      ],
      "text/plain": [
       "<IPython.core.display.Math object>"
      ]
     },
     "metadata": {},
     "output_type": "display_data"
    },
    {
     "data": {
      "text/latex": [
       "$\\displaystyle x \\equiv 3\\;\\mod{15}$"
      ],
      "text/plain": [
       "<IPython.core.display.Math object>"
      ]
     },
     "metadata": {},
     "output_type": "display_data"
    },
    {
     "data": {
      "text/latex": [
       "$\\displaystyle x \\equiv 1\\;\\mod{2}$"
      ],
      "text/plain": [
       "<IPython.core.display.Math object>"
      ]
     },
     "metadata": {},
     "output_type": "display_data"
    },
    {
     "name": "stdout",
     "output_type": "stream",
     "text": [
      "--------------------------------------\n"
     ]
    },
    {
     "data": {
      "text/latex": [
       "$\\displaystyle \\mathbf{Solución} \\quad x =-117$"
      ],
      "text/plain": [
       "<IPython.core.display.Math object>"
      ]
     },
     "metadata": {},
     "output_type": "display_data"
    }
   ],
   "source": [
    "# 93 % 7 = 2\n",
    "# 93 % 15 = 3\n",
    "# 93 % 2 = 1 \n",
    "# 7 * 15 * 2 = 210 \n",
    "\n",
    "eqs,mods = [Z.build(x) for x in [2,3,1]],[Z.build(x) for x in [7,15,2]]\n",
    "show_and_solve(eqs,mods)\n",
    "\n",
    "# -117 + 1 * 210 = 93"
   ]
  },
  {
   "cell_type": "code",
   "execution_count": 15,
   "metadata": {},
   "outputs": [
    {
     "data": {
      "text/latex": [
       "$\\displaystyle x \\equiv 5\\;\\mod{14}$"
      ],
      "text/plain": [
       "<IPython.core.display.Math object>"
      ]
     },
     "metadata": {},
     "output_type": "display_data"
    },
    {
     "data": {
      "text/latex": [
       "$\\displaystyle x \\equiv 22\\;\\mod{33}$"
      ],
      "text/plain": [
       "<IPython.core.display.Math object>"
      ]
     },
     "metadata": {},
     "output_type": "display_data"
    },
    {
     "data": {
      "text/latex": [
       "$\\displaystyle x \\equiv 1\\;\\mod{5}$"
      ],
      "text/plain": [
       "<IPython.core.display.Math object>"
      ]
     },
     "metadata": {},
     "output_type": "display_data"
    },
    {
     "name": "stdout",
     "output_type": "stream",
     "text": [
      "--------------------------------------\n"
     ]
    },
    {
     "data": {
      "text/latex": [
       "$\\displaystyle \\mathbf{Solución} \\quad x =-17369$"
      ],
      "text/plain": [
       "<IPython.core.display.Math object>"
      ]
     },
     "metadata": {},
     "output_type": "display_data"
    }
   ],
   "source": [
    "# 1111 % 14 = 5\n",
    "# 1111 % 33 = 22\n",
    "# 1111 % 5 = 1\n",
    "# 14 * 33 * 5 = 2310\n",
    "\n",
    "eqs,mods = [Z.build(x) for x in [5,22,1]],[Z.build(x) for x in [14,33,5]]\n",
    "show_and_solve(eqs,mods)\n",
    "\n",
    "# -17369 + 8*2310 = 1111"
   ]
  },
  {
   "cell_type": "code",
   "execution_count": 16,
   "metadata": {},
   "outputs": [
    {
     "data": {
      "text/latex": [
       "$\\displaystyle x \\equiv 1\\;\\mod{2}$"
      ],
      "text/plain": [
       "<IPython.core.display.Math object>"
      ]
     },
     "metadata": {},
     "output_type": "display_data"
    },
    {
     "data": {
      "text/latex": [
       "$\\displaystyle x \\equiv 2\\;\\mod{3}$"
      ],
      "text/plain": [
       "<IPython.core.display.Math object>"
      ]
     },
     "metadata": {},
     "output_type": "display_data"
    },
    {
     "data": {
      "text/latex": [
       "$\\displaystyle x \\equiv 2\\;\\mod{5}$"
      ],
      "text/plain": [
       "<IPython.core.display.Math object>"
      ]
     },
     "metadata": {},
     "output_type": "display_data"
    },
    {
     "data": {
      "text/latex": [
       "$\\displaystyle x \\equiv 10\\;\\mod{11}$"
      ],
      "text/plain": [
       "<IPython.core.display.Math object>"
      ]
     },
     "metadata": {},
     "output_type": "display_data"
    },
    {
     "data": {
      "text/latex": [
       "$\\displaystyle x \\equiv 15\\;\\mod{17}$"
      ],
      "text/plain": [
       "<IPython.core.display.Math object>"
      ]
     },
     "metadata": {},
     "output_type": "display_data"
    },
    {
     "name": "stdout",
     "output_type": "stream",
     "text": [
      "--------------------------------------\n"
     ]
    },
    {
     "data": {
      "text/latex": [
       "$\\displaystyle \\mathbf{Solución} \\quad x =42107$"
      ],
      "text/plain": [
       "<IPython.core.display.Math object>"
      ]
     },
     "metadata": {},
     "output_type": "display_data"
    }
   ],
   "source": [
    "# 2837 % 2 = 1\n",
    "# 2837 % 3 = 2\n",
    "# 2837 % 5 = 2\n",
    "# 2837 % 11 = 10\n",
    "# 2837 % 17 = 15\n",
    "# 2 * 3 * 5 * 11 * 17 = 5610\n",
    "\n",
    "eqs,mods = [Z.build(x) for x in [1,2,2,10,15]],[Z.build(x) for x in [2,3,5,11,17]]\n",
    "show_and_solve(eqs,mods)\n",
    "\n",
    "# 42107 % 5610 = 2837, la solución esperada"
   ]
  },
  {
   "cell_type": "markdown",
   "metadata": {},
   "source": [
    "## Cuerpos finitos"
   ]
  },
  {
   "cell_type": "markdown",
   "metadata": {},
   "source": [
    "### Inverso de un elemento"
   ]
  },
  {
   "cell_type": "code",
   "execution_count": 17,
   "metadata": {},
   "outputs": [
    {
     "name": "stdout",
     "output_type": "stream",
     "text": [
      "El inverso de 5X + 2 en ((ℤ/7ℤ)[X]/(X² + 2X + 3)(ℤ/7ℤ)[X]) es 3X + 2\n",
      "(5X + 2) * (3X + 2) = 1\n",
      "\n",
      "El inverso de 6X + 4 en ((ℤ/7ℤ)[X]/(X² + 2X + 3)(ℤ/7ℤ)[X]) es 6X + 1\n",
      "(6X + 4) * (6X + 1) = 1\n",
      "\n",
      "El inverso de 4 en ((ℤ/7ℤ)[X]/(X² + 2X + 3)(ℤ/7ℤ)[X]) es 2\n",
      "(4) * (2) = 1\n",
      "\n",
      "El inverso de X² + X + 1 en ((ℤ/3ℤ)[X]/(X³ + 2X + 1)(ℤ/3ℤ)[X]) es 2X² + X + 1\n",
      "(X² + X + 1) * (2X² + X + 1) = 1\n",
      "\n"
     ]
    }
   ],
   "source": [
    "e = F49([2,5])\n",
    "print(f\"El inverso de {e} en {F49} es {e.inverse()}\")\n",
    "print(f\"({e}) * ({e.inverse()}) = {e*e.inverse()}\\n\")\n",
    "\n",
    "# (5x+2)(3x+2) = (15x^2+16x+4) % (x^2+2x+3) = -14x - 41 =  1 (mod 7)\n",
    "\n",
    "e = F49([4,6])\n",
    "print(f\"El inverso de {e} en {F49} es {e.inverse()}\")\n",
    "print(f\"({e}) * ({e.inverse()}) = {e*e.inverse()}\\n\")\n",
    "\n",
    "# (6x+4)(6x+1) = (36x^2+30x+4) % (x^2+2x+3) = -14x - 104 = 1 (mod 7)\n",
    "\n",
    "e = F49([4])\n",
    "print(f\"El inverso de {e} en {F49} es {e.inverse()}\")\n",
    "print(f\"({e}) * ({e.inverse()}) = {e*e.inverse()}\\n\")\n",
    "\n",
    "\n",
    "F27 = examples.finite_fields.FiniteField(3, [1,2,0,1])\n",
    "e = F27([1,1,1])\n",
    "print(f\"El inverso de {e} en {F27} es {e.inverse()}\")\n",
    "print(f\"({e}) * ({e.inverse()}) = {e*e.inverse()}\\n\")\n",
    "\n",
    "# (x^2+x+1)(2x^2+x+1) = (2x^4+3x^3+4x^2+2x+1) % (x^3+2x+3) = -6x-2 = 1 (mod 7)\n"
   ]
  },
  {
   "cell_type": "markdown",
   "metadata": {},
   "source": [
    "### Irreducibilidad de un polinomio"
   ]
  },
  {
   "cell_type": "code",
   "execution_count": 18,
   "metadata": {},
   "outputs": [
    {
     "name": "stdout",
     "output_type": "stream",
     "text": [
      "El polinomio X² + 1 es irreducible? True\n",
      "El polinomio 2X² + 5 es irreducible? False\n"
     ]
    }
   ],
   "source": [
    "F7X = F7[\"X\"]\n",
    "pol = F7X(1,0,1)\n",
    "print(f\"El polinomio {pol} es irreducible?\", pol.is_prime())\n",
    "\n",
    "pol = F7X(5,0,2)\n",
    "print(f\"El polinomio {pol} es irreducible?\", pol.is_prime())\n",
    "# (x + 1) (2x + 5) = 2x^2 + 5\n",
    "\n",
    "#Aquí, meter un polinomio que tenga los coeficientes en un cuerpo finito de la\n",
    "#  forma q = p^n con n > 1"
   ]
  },
  {
   "cell_type": "markdown",
   "metadata": {},
   "source": [
    "### Logaritmo discreto en cuerpos $\\frac{F_q[X]}{f(X)}$"
   ]
  },
  {
   "cell_type": "markdown",
   "metadata": {},
   "source": [
    "Comenzamos probando sobre F7"
   ]
  },
  {
   "cell_type": "code",
   "execution_count": 20,
   "metadata": {},
   "outputs": [
    {
     "name": "stdout",
     "output_type": "stream",
     "text": [
      "Base 2:\n",
      "Ninguna potencia de 2 es 0 en (ℤ/7ℤ)\n",
      "2 ^ 0 = 1\n",
      "2 ^ 1 = 2\n",
      "Ninguna potencia de 2 es 3 en (ℤ/7ℤ)\n",
      "2 ^ 2 = 4\n",
      "Ninguna potencia de 2 es 5 en (ℤ/7ℤ)\n",
      "Ninguna potencia de 2 es 6 en (ℤ/7ℤ)\n"
     ]
    }
   ],
   "source": [
    "d_log = algorithms.discrete_log.discrete_log\n",
    "\n",
    "print(\"Base 2:\")\n",
    "for i in range(0, 7):\n",
    "    base, res = F7.build(2),F7.build(i)\n",
    "\n",
    "    d = d_log(base,res)\n",
    "    if d is None:\n",
    "        print('Ninguna potencia de', base ,'es',res,'en',F7.ring)\n",
    "    else:\n",
    "        print(base,'^',d,'=',base**d)"
   ]
  },
  {
   "cell_type": "code",
   "execution_count": 21,
   "metadata": {},
   "outputs": [
    {
     "name": "stdout",
     "output_type": "stream",
     "text": [
      "Base 3:\n",
      "Ninguna potencia de 3 es 0 en (ℤ/7ℤ)\n",
      "3 ^ 0 = 1\n",
      "3 ^ 2 = 2\n",
      "3 ^ 1 = 3\n",
      "3 ^ 4 = 4\n",
      "3 ^ 5 = 5\n",
      "3 ^ 3 = 6\n"
     ]
    }
   ],
   "source": [
    "print(\"Base 3:\")\n",
    "for i in range(0, 7):\n",
    "    base, res = F7.build(3),F7.build(i)\n",
    "\n",
    "    d = d_log(base,res)\n",
    "    if d is None:\n",
    "        print('Ninguna potencia de', base ,'es',res,'en',F7.ring)\n",
    "    else:\n",
    "        print(base,'^',d,'=',base**d)"
   ]
  },
  {
   "cell_type": "code",
   "execution_count": 22,
   "metadata": {},
   "outputs": [
    {
     "name": "stdout",
     "output_type": "stream",
     "text": [
      "Base 5:\n",
      "Ninguna potencia de 6 es 0 en (ℤ/7ℤ)\n",
      "6 ^ 0 = 1\n",
      "Ninguna potencia de 6 es 2 en (ℤ/7ℤ)\n",
      "Ninguna potencia de 6 es 3 en (ℤ/7ℤ)\n",
      "Ninguna potencia de 6 es 4 en (ℤ/7ℤ)\n",
      "Ninguna potencia de 6 es 5 en (ℤ/7ℤ)\n",
      "6 ^ 1 = 6\n"
     ]
    }
   ],
   "source": [
    "d_log = algorithms.discrete_log.discrete_log\n",
    "\n",
    "print(\"Base 5:\")\n",
    "for i in range(0, 7):\n",
    "    base, res = F7.build(6),F7.build(i)\n",
    "\n",
    "    d = d_log(base,res)\n",
    "    if d is None:\n",
    "        print('Ninguna potencia de', base ,'es',res,'en',F7.ring)\n",
    "    else:\n",
    "        print(base,'^',d,'=',base**d)"
   ]
  },
  {
   "cell_type": "markdown",
   "metadata": {},
   "source": [
    "Ahora, probamos con un cuerpo finito más complejo (F49)"
   ]
  },
  {
   "cell_type": "code",
   "execution_count": 23,
   "metadata": {},
   "outputs": [
    {
     "name": "stdout",
     "output_type": "stream",
     "text": [
      "( X + 1 ) ^ 2 = 5\n",
      "( X + 1 ) ^ 3 = 5X + 5\n",
      "( X + 1 ) ^ 4 = 4\n",
      "( 4X + 3 ) ^ 2 = 6X + 3\n",
      "( 4X + 3 ) ^ 7 = 3X + 2\n"
     ]
    }
   ],
   "source": [
    "#(x + 1)(x + 1) = (x^2 + 2x + 1) % (x^2 + 2x + 3) = 5\n",
    "base, res = F49([1,1]), F49([5])\n",
    "d = d_log(base,res)\n",
    "print(\"(\",base,')','^',d,'=',base**d)\n",
    "\n",
    "#5 (x + 1) = 5x + 5\n",
    "base, res = F49([1,1]), F49([5,5])\n",
    "d = d_log(base,res)\n",
    "print(\"(\",base,')','^',d,'=',base**d)\n",
    "\n",
    "#(5x + 5)(x + 1) = 5x^2 + 3x + 5 % (x^2 + 2x + 3) = 4\n",
    "base, res = F49([1,1]), F49([4])\n",
    "d = d_log(base,res)\n",
    "print(\"(\",base,')','^',d,'=',base**d)\n",
    "\n",
    "# (4X + 3) ^ 2 = 6X + 3\n",
    "base, res = F49([3,4]), F49([3,6])\n",
    "d = d_log(base,res)\n",
    "print(\"(\",base,')','^',d,'=',base**d)\n",
    "\n",
    "#(4X + 3) ^ 7 = 3X + 2\n",
    "base, res = F49([3,4]), F49([2,3])\n",
    "d = d_log(base,res)\n",
    "print(\"(\",base,')','^',d,'=',base**d)"
   ]
  },
  {
   "cell_type": "markdown",
   "metadata": {},
   "source": [
    "Por último, hacemos pruebas en F27:"
   ]
  },
  {
   "cell_type": "code",
   "execution_count": 58,
   "metadata": {},
   "outputs": [
    {
     "name": "stdout",
     "output_type": "stream",
     "text": [
      "( 2X + 1 ) ^ 2 = X² + X + 1\n",
      "( 2X + 1 ) ^ 3 = 2X + 2\n"
     ]
    }
   ],
   "source": [
    "#(2x+1) ^ 2 = x^2+x+1\n",
    "base, res = F27([1,2]), F27([1,1,1])\n",
    "d = d_log(base,res)\n",
    "print(\"(\",base,')','^',d,'=',base**d)\n",
    "\n",
    "#(2x+1) ^ 3 = 2x + 2\n",
    "base, res = F27([1,2]), F27([2,2])\n",
    "d = d_log(base,res)\n",
    "print(\"(\",base,')','^',d,'=',base**d)"
   ]
  },
  {
   "cell_type": "markdown",
   "metadata": {},
   "source": [
    "## Factorización en $\\mathbb{F}_q[X]$\n",
    "### Descomposición libre de cuadrados"
   ]
  },
  {
   "cell_type": "code",
   "execution_count": 44,
   "metadata": {},
   "outputs": [
    {
     "name": "stdout",
     "output_type": "stream",
     "text": [
      "The squarefree factorization of\n",
      "f = x²¹ + 14x¹⁹ + 74x¹⁷ + 166x¹⁵ + 60x¹³ + 6521x¹¹ + 6485x⁹ + 162x⁷ + 243x⁵\n",
      "is (x² + 1)¹(x² + 6862)²(x³ + 3x)⁵\n"
     ]
    }
   ],
   "source": [
    "sfd = algorithms.factorization.squarefree_decomposition\n",
    "prs = utils.print_superscript\n",
    "\n",
    "RX = (Z/(6863*Z))[\"x\"]\n",
    "\n",
    "f = RX(1,1)**2 * RX(-1,1)**2 * RX(1,0,1) * RX(3,0,1)**5 * RX(0,1)**5\n",
    "res = sfd(f)\n",
    "print(\"The squarefree factorization of\")\n",
    "print(\"f =\",f)\n",
    "print(\"is\", ''.join([f\"({p}){prs(i)}\" for i,p in res.items() if p != type(p).one]))"
   ]
  },
  {
   "cell_type": "markdown",
   "metadata": {},
   "source": [
    "### Factorización de distinto grado"
   ]
  },
  {
   "cell_type": "code",
   "execution_count": 19,
   "metadata": {},
   "outputs": [
    {
     "name": "stdout",
     "output_type": "stream",
     "text": [
      "The distinct degree factorization of\n",
      "f = x⁵ + 5x³ + 6x\n",
      "is (x)(x⁴ + 5x² + 6)\n"
     ]
    }
   ],
   "source": [
    "ddf = algorithms.factorization.distinct_degree_factorization\n",
    "\n",
    "RX = (Z/(101*Z))[\"x\"]\n",
    "\n",
    "f = RX(0,3,0,1)*RX(2,0,1)\n",
    "res = ddf(f)\n",
    "print(\"The distinct degree factorization of\")\n",
    "print(\"f =\",f)\n",
    "print(\"is\", ''.join([f\"({p})\" for i,p in res.items() if p != type(p).one]))"
   ]
  },
  {
   "cell_type": "markdown",
   "metadata": {},
   "source": [
    "### Algoritmo de factorización de Berlekamp"
   ]
  },
  {
   "cell_type": "code",
   "execution_count": 20,
   "metadata": {},
   "outputs": [
    {
     "name": "stdout",
     "output_type": "stream",
     "text": [
      "The irreducible factors of x⁶ + 6x⁴ + 2x³ + 9x² + 6x are\n",
      "[x, x² + 3, x³ + 3x + 2]\n"
     ]
    }
   ],
   "source": [
    "factorize = algorithms.factorization.berlekamp_factorization\n",
    "\n",
    "RX = (Z/(101*Z))[\"x\"]\n",
    "\n",
    "f = RX(0,3,0,1)*RX(2,3,0,1)\n",
    "res = factorize(f)\n",
    "\n",
    "print(f\"The irreducible factors of {f} are\")\n",
    "print(f\"{res}\")"
   ]
  },
  {
   "cell_type": "markdown",
   "metadata": {},
   "source": [
    "### Algoritmo de factorización de Berlekamp/Cantor/Zassenhaus"
   ]
  },
  {
   "cell_type": "code",
   "execution_count": 21,
   "metadata": {},
   "outputs": [
    {
     "name": "stdout",
     "output_type": "stream",
     "text": [
      "The irreducible factors of x⁶ + 6x⁴ + 2x³ + 9x² + 6x are\n",
      "[x, x² + 3, x³ + 3x + 2]\n"
     ]
    }
   ],
   "source": [
    "factorize = algorithms.factorization.berlekamp_cantor_zassenhaus\n",
    "\n",
    "RX = (Z/(101*Z))[\"x\"]\n",
    "\n",
    "f = RX(0,3,0,1)*RX(2,3,0,1)\n",
    "res = factorize(f)\n",
    "\n",
    "print(f\"The irreducible factors of {f} are\")\n",
    "print(f\"{res}\")"
   ]
  },
  {
   "cell_type": "markdown",
   "metadata": {},
   "source": [
    "## Factorización en $\\mathbb{Z}[X]$\n",
    "### BCA + Hensel lifting"
   ]
  },
  {
   "cell_type": "code",
   "execution_count": 22,
   "metadata": {},
   "outputs": [
    {
     "name": "stdout",
     "output_type": "stream",
     "text": [
      "The irreducible factors of x⁷ + 2x⁵ + x⁴ + -2x³ + x² + -3x + -3 are\n",
      "[x³ + x + 1, x⁴ + x² + -3]\n"
     ]
    }
   ],
   "source": [
    "# Example 2.4.11\n",
    "\n",
    "factorize = algorithms.zx_factorization.zx_factorization\n",
    "\n",
    "Z_X = Z[\"x\"]\n",
    "\n",
    "f = Z_X(-3,-3,1,-2,1,2,0,1)\n",
    "\n",
    "res = factorize(f)\n",
    "\n",
    "print(f\"The irreducible factors of {f} are\")\n",
    "print(f\"{res}\")"
   ]
  },
  {
   "cell_type": "markdown",
   "metadata": {},
   "source": [
    "## Primalidad"
   ]
  },
  {
   "cell_type": "markdown",
   "metadata": {},
   "source": [
    "### Test de primalidad de AKS"
   ]
  },
  {
   "cell_type": "code",
   "execution_count": 36,
   "metadata": {
    "scrolled": true
   },
   "outputs": [
    {
     "name": "stdout",
     "output_type": "stream",
     "text": [
      "Es 2 primo? Sí\n",
      "Es 3 primo? Sí\n",
      "Es 5 primo? Sí\n",
      "Es 7 primo? Sí\n",
      "Es 11 primo? Sí\n",
      "Es 9 primo? No\n",
      "Es 12 primo? No\n",
      "Es 33 primo? No\n"
     ]
    }
   ],
   "source": [
    "is_prime_aks = algorithms.primality.is_prime_aks\n",
    "\n",
    "primes = [2,3,5,7,11] \n",
    "non_primes = [9,12,33]\n",
    "\n",
    "#797 takes forever to compute\n",
    "for x in primes+non_primes:\n",
    "    print('Es',x,'primo? ',end='')\n",
    "    if is_prime_aks(x):\n",
    "        print(\"Sí\")\n",
    "    else:\n",
    "        print(\"No\")"
   ]
  },
  {
   "cell_type": "code",
   "execution_count": 37,
   "metadata": {},
   "outputs": [
    {
     "data": {
      "text/plain": [
       "True"
      ]
     },
     "execution_count": 37,
     "metadata": {},
     "output_type": "execute_result"
    }
   ],
   "source": [
    "is_prime_aks(53)"
   ]
  },
  {
   "cell_type": "markdown",
   "metadata": {},
   "source": [
    "### Test de primalidad de Miller-Rabin"
   ]
  },
  {
   "cell_type": "code",
   "execution_count": 38,
   "metadata": {},
   "outputs": [
    {
     "name": "stdout",
     "output_type": "stream",
     "text": [
      "Es 2 primo? Probablemente\n",
      "Es 3 primo? Probablemente\n",
      "Es 5 primo? Probablemente\n",
      "Es 7 primo? Probablemente\n",
      "Es 11 primo? Probablemente\n",
      "Es 797 primo? Probablemente\n",
      "Es 34897 primo? Probablemente\n",
      "Es 3329 primo? Probablemente\n",
      "Es 9 primo? No\n",
      "Es 12 primo? No\n",
      "Es 33 primo? No\n",
      "Es 2048 primo? No\n",
      "Es 116172113 primo? "
     ]
    },
    {
     "ename": "KeyboardInterrupt",
     "evalue": "",
     "output_type": "error",
     "traceback": [
      "\u001b[0;31m---------------------------------------------------------------------------\u001b[0m",
      "\u001b[0;31mKeyboardInterrupt\u001b[0m                         Traceback (most recent call last)",
      "\u001b[0;32m<ipython-input-38-e115d4adf847>\u001b[0m in \u001b[0;36m<module>\u001b[0;34m\u001b[0m\n\u001b[1;32m      6\u001b[0m \u001b[0;32mfor\u001b[0m \u001b[0mx\u001b[0m \u001b[0;32min\u001b[0m \u001b[0mprimes\u001b[0m\u001b[0;34m+\u001b[0m\u001b[0mnon_primes\u001b[0m\u001b[0;34m:\u001b[0m\u001b[0;34m\u001b[0m\u001b[0;34m\u001b[0m\u001b[0m\n\u001b[1;32m      7\u001b[0m     \u001b[0mprint\u001b[0m\u001b[0;34m(\u001b[0m\u001b[0;34m'Es'\u001b[0m\u001b[0;34m,\u001b[0m\u001b[0mx\u001b[0m\u001b[0;34m,\u001b[0m\u001b[0;34m'primo? '\u001b[0m\u001b[0;34m,\u001b[0m\u001b[0mend\u001b[0m\u001b[0;34m=\u001b[0m\u001b[0;34m''\u001b[0m\u001b[0;34m)\u001b[0m\u001b[0;34m\u001b[0m\u001b[0;34m\u001b[0m\u001b[0m\n\u001b[0;32m----> 8\u001b[0;31m     \u001b[0;32mif\u001b[0m \u001b[0mis_prime_miller_rabin\u001b[0m\u001b[0;34m(\u001b[0m\u001b[0mx\u001b[0m\u001b[0;34m)\u001b[0m\u001b[0;34m:\u001b[0m\u001b[0;34m\u001b[0m\u001b[0;34m\u001b[0m\u001b[0m\n\u001b[0m\u001b[1;32m      9\u001b[0m         \u001b[0mprint\u001b[0m\u001b[0;34m(\u001b[0m\u001b[0;34m\"Probablemente\"\u001b[0m\u001b[0;34m)\u001b[0m\u001b[0;34m\u001b[0m\u001b[0;34m\u001b[0m\u001b[0m\n\u001b[1;32m     10\u001b[0m     \u001b[0;32melse\u001b[0m\u001b[0;34m:\u001b[0m\u001b[0;34m\u001b[0m\u001b[0;34m\u001b[0m\u001b[0m\n",
      "\u001b[0;32m~/Datos/Documentos/Universidad/ALCP/Algebra-Computacional/python_alcp/algorithms/primality.py\u001b[0m in \u001b[0;36mis_prime_miller_rabin\u001b[0;34m(n, k)\u001b[0m\n\u001b[1;32m     89\u001b[0m         \u001b[0mr\u001b[0m\u001b[0;34m,\u001b[0m\u001b[0md\u001b[0m \u001b[0;34m=\u001b[0m \u001b[0mr\u001b[0m\u001b[0;34m+\u001b[0m\u001b[0;36m1\u001b[0m\u001b[0;34m,\u001b[0m\u001b[0md\u001b[0m\u001b[0;34m//\u001b[0m\u001b[0;36m2\u001b[0m\u001b[0;34m\u001b[0m\u001b[0;34m\u001b[0m\u001b[0m\n\u001b[1;32m     90\u001b[0m     \u001b[0;31m# Run test k times\u001b[0m\u001b[0;34m\u001b[0m\u001b[0;34m\u001b[0m\u001b[0;34m\u001b[0m\u001b[0m\n\u001b[0;32m---> 91\u001b[0;31m     \u001b[0mR\u001b[0m \u001b[0;34m=\u001b[0m \u001b[0mZ\u001b[0m\u001b[0;34m/\u001b[0m\u001b[0;34m(\u001b[0m\u001b[0mZ\u001b[0m\u001b[0;34m*\u001b[0m\u001b[0mn\u001b[0m\u001b[0;34m)\u001b[0m\u001b[0;34m\u001b[0m\u001b[0;34m\u001b[0m\u001b[0m\n\u001b[0m\u001b[1;32m     92\u001b[0m     \u001b[0mone\u001b[0m\u001b[0;34m,\u001b[0m\u001b[0mminus_one\u001b[0m \u001b[0;34m=\u001b[0m \u001b[0mR\u001b[0m\u001b[0;34m.\u001b[0m\u001b[0mbuild\u001b[0m\u001b[0;34m(\u001b[0m\u001b[0;36m1\u001b[0m\u001b[0;34m)\u001b[0m\u001b[0;34m,\u001b[0m\u001b[0mR\u001b[0m\u001b[0;34m.\u001b[0m\u001b[0mbuild\u001b[0m\u001b[0;34m(\u001b[0m\u001b[0mn\u001b[0m\u001b[0;34m.\u001b[0m\u001b[0mval\u001b[0m\u001b[0;34m-\u001b[0m\u001b[0;36m1\u001b[0m\u001b[0;34m)\u001b[0m\u001b[0;34m\u001b[0m\u001b[0;34m\u001b[0m\u001b[0m\n\u001b[1;32m     93\u001b[0m     \u001b[0;32mfor\u001b[0m \u001b[0m_\u001b[0m \u001b[0;32min\u001b[0m \u001b[0mrange\u001b[0m\u001b[0;34m(\u001b[0m\u001b[0mk\u001b[0m\u001b[0;34m)\u001b[0m\u001b[0;34m:\u001b[0m\u001b[0;34m\u001b[0m\u001b[0;34m\u001b[0m\u001b[0m\n",
      "\u001b[0;32m~/Datos/Documentos/Universidad/ALCP/Algebra-Computacional/python_alcp/structures/rings.py\u001b[0m in \u001b[0;36m__truediv__\u001b[0;34m(cls, other)\u001b[0m\n\u001b[1;32m     29\u001b[0m \u001b[0;34m\u001b[0m\u001b[0m\n\u001b[1;32m     30\u001b[0m     \u001b[0;32mdef\u001b[0m \u001b[0m__truediv__\u001b[0m\u001b[0;34m(\u001b[0m\u001b[0mcls\u001b[0m\u001b[0;34m,\u001b[0m \u001b[0mother\u001b[0m\u001b[0;34m)\u001b[0m\u001b[0;34m:\u001b[0m\u001b[0;34m\u001b[0m\u001b[0;34m\u001b[0m\u001b[0m\n\u001b[0;32m---> 31\u001b[0;31m         \u001b[0;32mreturn\u001b[0m \u001b[0mexternals\u001b[0m\u001b[0;34m.\u001b[0m\u001b[0mGetQuotient\u001b[0m\u001b[0;34m(\u001b[0m\u001b[0mcls\u001b[0m\u001b[0;34m,\u001b[0m \u001b[0mother\u001b[0m\u001b[0;34m)\u001b[0m\u001b[0;34m\u001b[0m\u001b[0;34m\u001b[0m\u001b[0m\n\u001b[0m\u001b[1;32m     32\u001b[0m \u001b[0;34m\u001b[0m\u001b[0m\n\u001b[1;32m     33\u001b[0m     \u001b[0;32mdef\u001b[0m \u001b[0m__mul__\u001b[0m\u001b[0;34m(\u001b[0m\u001b[0mcls\u001b[0m\u001b[0;34m,\u001b[0m \u001b[0mother\u001b[0m\u001b[0;34m)\u001b[0m\u001b[0;34m:\u001b[0m\u001b[0;34m\u001b[0m\u001b[0;34m\u001b[0m\u001b[0m\n",
      "\u001b[0;32m~/Datos/Documentos/Universidad/ALCP/Algebra-Computacional/python_alcp/structures/ideals.py\u001b[0m in \u001b[0;36mGetQuotient\u001b[0;34m(ring, ideal)\u001b[0m\n\u001b[1;32m    264\u001b[0m \u001b[0;34m@\u001b[0m\u001b[0mexternal\u001b[0m\u001b[0;34m\u001b[0m\u001b[0;34m\u001b[0m\u001b[0m\n\u001b[1;32m    265\u001b[0m \u001b[0;32mdef\u001b[0m \u001b[0mGetQuotient\u001b[0m\u001b[0;34m(\u001b[0m\u001b[0mring\u001b[0m\u001b[0;34m,\u001b[0m \u001b[0mideal\u001b[0m\u001b[0;34m)\u001b[0m\u001b[0;34m:\u001b[0m\u001b[0;34m\u001b[0m\u001b[0;34m\u001b[0m\u001b[0m\n\u001b[0;32m--> 266\u001b[0;31m     \u001b[0;32mif\u001b[0m \u001b[0mring\u001b[0m\u001b[0;34m.\u001b[0m\u001b[0mis_euclidean\u001b[0m\u001b[0;34m(\u001b[0m\u001b[0;34m)\u001b[0m \u001b[0;32mand\u001b[0m \u001b[0mideal\u001b[0m\u001b[0;34m.\u001b[0m\u001b[0mis_maximal\u001b[0m\u001b[0;34m(\u001b[0m\u001b[0;34m)\u001b[0m\u001b[0;34m:\u001b[0m\u001b[0;34m\u001b[0m\u001b[0;34m\u001b[0m\u001b[0m\n\u001b[0m\u001b[1;32m    267\u001b[0m         \u001b[0;32mreturn\u001b[0m \u001b[0mGetFieldQuotient\u001b[0m\u001b[0;34m(\u001b[0m\u001b[0mring\u001b[0m\u001b[0;34m,\u001b[0m \u001b[0mideal\u001b[0m\u001b[0;34m)\u001b[0m\u001b[0;34m\u001b[0m\u001b[0;34m\u001b[0m\u001b[0m\n\u001b[1;32m    268\u001b[0m     \u001b[0;32melse\u001b[0m\u001b[0;34m:\u001b[0m\u001b[0;34m\u001b[0m\u001b[0;34m\u001b[0m\u001b[0m\n",
      "\u001b[0;32m~/Datos/Documentos/Universidad/ALCP/Algebra-Computacional/python_alcp/structures/ideals.py\u001b[0m in \u001b[0;36mis_maximal\u001b[0;34m(self)\u001b[0m\n\u001b[1;32m     70\u001b[0m         \u001b[0;31m# In a PID, maximal <=> nonzero and prime\u001b[0m\u001b[0;34m\u001b[0m\u001b[0;34m\u001b[0m\u001b[0;34m\u001b[0m\u001b[0m\n\u001b[1;32m     71\u001b[0m         \u001b[0;31m# Also, nonzero and prime <=> ideal = (p) and p is prime\u001b[0m\u001b[0;34m\u001b[0m\u001b[0;34m\u001b[0m\u001b[0;34m\u001b[0m\u001b[0m\n\u001b[0;32m---> 72\u001b[0;31m         \u001b[0;32mreturn\u001b[0m \u001b[0mself\u001b[0m\u001b[0;34m.\u001b[0m\u001b[0mgenerator\u001b[0m\u001b[0;34m.\u001b[0m\u001b[0mis_prime\u001b[0m\u001b[0;34m(\u001b[0m\u001b[0;34m)\u001b[0m\u001b[0;34m\u001b[0m\u001b[0;34m\u001b[0m\u001b[0m\n\u001b[0m\u001b[1;32m     73\u001b[0m \u001b[0;34m\u001b[0m\u001b[0m\n\u001b[1;32m     74\u001b[0m     \u001b[0;32mdef\u001b[0m \u001b[0m__str__\u001b[0m\u001b[0;34m(\u001b[0m\u001b[0mself\u001b[0m\u001b[0;34m)\u001b[0m\u001b[0;34m:\u001b[0m\u001b[0;34m\u001b[0m\u001b[0;34m\u001b[0m\u001b[0m\n",
      "\u001b[0;32m~/Datos/Documentos/Universidad/ALCP/Algebra-Computacional/python_alcp/examples/rings.py\u001b[0m in \u001b[0;36mis_prime\u001b[0;34m(self)\u001b[0m\n\u001b[1;32m     99\u001b[0m \u001b[0;34m\u001b[0m\u001b[0m\n\u001b[1;32m    100\u001b[0m     \u001b[0;32mdef\u001b[0m \u001b[0mis_prime\u001b[0m\u001b[0;34m(\u001b[0m\u001b[0mself\u001b[0m\u001b[0;34m)\u001b[0m\u001b[0;34m:\u001b[0m\u001b[0;34m\u001b[0m\u001b[0;34m\u001b[0m\u001b[0m\n\u001b[0;32m--> 101\u001b[0;31m         \u001b[0;32mfor\u001b[0m \u001b[0mp\u001b[0m \u001b[0;32min\u001b[0m \u001b[0mprimes\u001b[0m\u001b[0;34m(\u001b[0m\u001b[0;34m)\u001b[0m\u001b[0;34m:\u001b[0m\u001b[0;34m\u001b[0m\u001b[0;34m\u001b[0m\u001b[0m\n\u001b[0m\u001b[1;32m    102\u001b[0m             \u001b[0;32mif\u001b[0m \u001b[0mself\u001b[0m\u001b[0;34m.\u001b[0m\u001b[0mval\u001b[0m \u001b[0;34m==\u001b[0m \u001b[0mp\u001b[0m\u001b[0;34m:\u001b[0m\u001b[0;34m\u001b[0m\u001b[0;34m\u001b[0m\u001b[0m\n\u001b[1;32m    103\u001b[0m                 \u001b[0;32mreturn\u001b[0m \u001b[0;32mTrue\u001b[0m\u001b[0;34m\u001b[0m\u001b[0;34m\u001b[0m\u001b[0m\n",
      "\u001b[0;32m~/Datos/Documentos/Universidad/ALCP/Algebra-Computacional/python_alcp/utils.py\u001b[0m in \u001b[0;36m_p\u001b[0;34m()\u001b[0m\n\u001b[1;32m     81\u001b[0m             \u001b[0mprime\u001b[0m \u001b[0;34m=\u001b[0m \u001b[0;32mTrue\u001b[0m\u001b[0;34m\u001b[0m\u001b[0;34m\u001b[0m\u001b[0m\n\u001b[1;32m     82\u001b[0m             \u001b[0;32mfor\u001b[0m \u001b[0mp\u001b[0m \u001b[0;32min\u001b[0m \u001b[0mcurprimes\u001b[0m\u001b[0;34m:\u001b[0m\u001b[0;34m\u001b[0m\u001b[0;34m\u001b[0m\u001b[0m\n\u001b[0;32m---> 83\u001b[0;31m                 \u001b[0;32mif\u001b[0m \u001b[0mi\u001b[0m \u001b[0;34m%\u001b[0m \u001b[0mp\u001b[0m \u001b[0;34m==\u001b[0m \u001b[0;36m0\u001b[0m\u001b[0;34m:\u001b[0m\u001b[0;34m\u001b[0m\u001b[0;34m\u001b[0m\u001b[0m\n\u001b[0m\u001b[1;32m     84\u001b[0m                     \u001b[0mprime\u001b[0m \u001b[0;34m=\u001b[0m \u001b[0;32mFalse\u001b[0m\u001b[0;34m\u001b[0m\u001b[0;34m\u001b[0m\u001b[0m\n\u001b[1;32m     85\u001b[0m                     \u001b[0;32mbreak\u001b[0m\u001b[0;34m\u001b[0m\u001b[0;34m\u001b[0m\u001b[0m\n",
      "\u001b[0;31mKeyboardInterrupt\u001b[0m: "
     ]
    }
   ],
   "source": [
    "is_prime_miller_rabin = algorithms.primality.is_prime_miller_rabin\n",
    "\n",
    "primes = [2,3,5,7,11,797,34897,3329]\n",
    "non_primes = [9,12,33,2048,116172113]\n",
    "\n",
    "for x in primes+non_primes:\n",
    "    print('Es',x,'primo? ',end='')\n",
    "    if is_prime_miller_rabin(x):\n",
    "        print(\"Probablemente\")\n",
    "    else:\n",
    "        print(\"No\")"
   ]
  },
  {
   "cell_type": "code",
   "execution_count": 20,
   "metadata": {},
   "outputs": [
    {
     "data": {
      "text/plain": [
       "True"
      ]
     },
     "execution_count": 21,
     "metadata": {},
     "output_type": "execute_result"
    }
   ],
   "source": [
    "# 123455546293 es primo\n",
    "is_prime_miller_rabin(123455546293)"
   ]
  },
  {
   "cell_type": "code",
   "execution_count": 22,
   "metadata": {},
   "outputs": [
    {
     "data": {
      "text/plain": [
       "False"
      ]
     },
     "execution_count": 22,
     "metadata": {},
     "output_type": "execute_result"
    }
   ],
   "source": [
    "# 123455546297 no lo es\n",
    "is_prime_miller_rabin(123455546297)"
   ]
  },
  {
   "cell_type": "code",
   "execution_count": null,
   "metadata": {},
   "outputs": [],
   "source": []
  }
 ],
 "metadata": {
  "kernelspec": {
   "display_name": "Python 3",
   "language": "python",
   "name": "python3"
  },
  "language_info": {
   "codemirror_mode": {
    "name": "ipython",
    "version": 3
   },
   "file_extension": ".py",
   "mimetype": "text/x-python",
   "name": "python",
   "nbconvert_exporter": "python",
   "pygments_lexer": "ipython3",
   "version": "3.6.10"
  }
 },
 "nbformat": 4,
 "nbformat_minor": 4
}
