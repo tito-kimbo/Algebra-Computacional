{
 "cells": [
  {
   "cell_type": "markdown",
   "metadata": {},
   "source": [
    "En este archivo se muestran algunos de los ejemplos de funcionamiento de la biblioteca de álgebra computacional que hemos construido."
   ]
  },
  {
   "cell_type": "code",
   "execution_count": 1,
   "metadata": {},
   "outputs": [],
   "source": [
    "import algorithms\n",
    "import structures\n",
    "import examples\n",
    "from IPython.display import Math,display"
   ]
  },
  {
   "cell_type": "markdown",
   "metadata": {},
   "source": [
    "# Estructuras"
   ]
  },
  {
   "cell_type": "markdown",
   "metadata": {},
   "source": [
    "## Anillos"
   ]
  },
  {
   "cell_type": "code",
   "execution_count": 2,
   "metadata": {},
   "outputs": [
    {
     "name": "stdout",
     "output_type": "stream",
     "text": [
      "ℤ es un anillo. Algunos de sus elementos son  0 1 -1\n"
     ]
    }
   ],
   "source": [
    "Z = examples.rings.Z\n",
    "print(Z, \"es un anillo. Algunos de sus elementos son \",Z.build(0),Z.build(1),Z.build(-1))"
   ]
  },
  {
   "cell_type": "markdown",
   "metadata": {},
   "source": [
    "## Ideales"
   ]
  },
  {
   "cell_type": "code",
   "execution_count": 3,
   "metadata": {},
   "outputs": [
    {
     "name": "stdout",
     "output_type": "stream",
     "text": [
      "7ℤ es maximal? True\n"
     ]
    }
   ],
   "source": [
    "Z7 = Z*7\n",
    "print(Z7,'es maximal?', Z7.is_maximal())"
   ]
  },
  {
   "cell_type": "markdown",
   "metadata": {},
   "source": [
    "## Cocientes"
   ]
  },
  {
   "cell_type": "code",
   "execution_count": 4,
   "metadata": {},
   "outputs": [
    {
     "name": "stdout",
     "output_type": "stream",
     "text": [
      "Algunas operaciones en ℤ/7ℤ\n",
      "[15]+[2]= 3\n",
      "[3]+[4]= 0\n",
      "[171]+[324]= 5\n",
      "[33]+[13]= 4\n"
     ]
    }
   ],
   "source": [
    "Z_7Z = Z/Z7\n",
    "print(\"Algunas operaciones en\",Z_7Z)\n",
    "print(\"[15]+[2]=\",Z_7Z.build(15)+Z_7Z.build(2))\n",
    "print(\"[3]+[4]=\",Z_7Z.build(3)+Z_7Z.build(4))\n",
    "print(\"[171]+[324]=\",Z_7Z.build(171)+Z_7Z.build(324))\n",
    "print(\"[33]+[13]=\",Z_7Z.build(33)+Z_7Z.build(13))"
   ]
  },
  {
   "cell_type": "markdown",
   "metadata": {},
   "source": [
    "## Polinomios"
   ]
  },
  {
   "cell_type": "code",
   "execution_count": 5,
   "metadata": {},
   "outputs": [
    {
     "data": {
      "text/plain": [
       "ℤ[X]"
      ]
     },
     "execution_count": 5,
     "metadata": {},
     "output_type": "execute_result"
    }
   ],
   "source": [
    "Z_X = Z[\"X\"]\n",
    "Z_X"
   ]
  },
  {
   "cell_type": "code",
   "execution_count": 6,
   "metadata": {},
   "outputs": [
    {
     "name": "stdout",
     "output_type": "stream",
     "text": [
      "Polinomio 1: 3X³ + 2X² + X\n",
      "Polinomio 2: 5X² + 4X + 2\n",
      "P1+P2= 3X³ + 7X² + 5X + 2\n",
      "P1-P2= 3X³ + -3X² + -3X + -2\n",
      "P1*P2= 15X⁵ + 22X⁴ + 19X³ + 8X² + 2X\n",
      "P1^2= 9X⁶ + 12X⁵ + 10X⁴ + 4X³ + X²\n"
     ]
    }
   ],
   "source": [
    "P1,P2 = Z_X.build([0,1,2,3]),Z_X.build([2,4,5])\n",
    "print(\"Polinomio 1:\",P1)\n",
    "print(\"Polinomio 2:\",P2)\n",
    "print(\"P1+P2=\",P1+P2)\n",
    "print(\"P1-P2=\",P1-P2)\n",
    "print(\"P1*P2=\",P1*P2)\n",
    "print(\"P1^2=\",P1**2)\n",
    "# Estas dos no funcionan pero deberían\n",
    "# print(\"P1/P2\",P1/P2)\n",
    "# print(\"P1 mod P2\", P1%P2)"
   ]
  },
  {
   "cell_type": "markdown",
   "metadata": {},
   "source": [
    "## Cuerpos finitos"
   ]
  },
  {
   "cell_type": "code",
   "execution_count": 7,
   "metadata": {},
   "outputs": [
    {
     "data": {
      "text/plain": [
       "ℤ/7ℤ"
      ]
     },
     "execution_count": 7,
     "metadata": {},
     "output_type": "execute_result"
    }
   ],
   "source": [
    "F7 = examples.finite_fields.FiniteField(7)\n",
    "F7\n",
    "# El siguiente código no funciona (el generador no está bien construido)\n",
    "# print('El cuerpo finito de 7 elementos',F7,'está generado por',F7.generator())"
   ]
  },
  {
   "cell_type": "code",
   "execution_count": 8,
   "metadata": {},
   "outputs": [],
   "source": [
    "# Esto también debería funcionar y no funciona (los cuerpos finitos no tienen por qué tener un número primo de elementos)\n",
    "# F49 = examples.finite_fields.FiniteField(49)"
   ]
  },
  {
   "cell_type": "markdown",
   "metadata": {},
   "source": [
    "# Algoritmos"
   ]
  },
  {
   "cell_type": "markdown",
   "metadata": {},
   "source": [
    "## Divisibilidad"
   ]
  },
  {
   "cell_type": "markdown",
   "metadata": {},
   "source": [
    "### Máximo común divisor"
   ]
  },
  {
   "cell_type": "code",
   "execution_count": 9,
   "metadata": {},
   "outputs": [
    {
     "name": "stdout",
     "output_type": "stream",
     "text": [
      "mcd(3,3) = 3\n",
      "mcd(3,25) = 1\n",
      "mcd(3,72) = 3\n",
      "mcd(25,3) = 1\n",
      "mcd(25,25) = 25\n",
      "mcd(25,72) = 1\n",
      "mcd(72,3) = 3\n",
      "mcd(72,25) = 1\n",
      "mcd(72,72) = 72\n"
     ]
    }
   ],
   "source": [
    "gcd = algorithms.divisibility.gcd\n",
    "\n",
    "# Example in Z\n",
    "l = [Z.build(3),Z.build(25),Z.build(72)]\n",
    "for x in l:\n",
    "    for y in l:\n",
    "        str1 = ''.join(['mcd(',str(x),',',str(y),') ='])\n",
    "        print(str1,gcd(x,y))"
   ]
  },
  {
   "cell_type": "markdown",
   "metadata": {},
   "source": [
    "### Algoritmo de Euclides extendido"
   ]
  },
  {
   "cell_type": "code",
   "execution_count": 10,
   "metadata": {},
   "outputs": [
    {
     "name": "stdout",
     "output_type": "stream",
     "text": [
      "MCD(x,y)         |  Identidad Bézout\n",
      "--------------------------------------\n",
      "mcd(3,3) = 3     |  0 x + 1 y = 3\n",
      "mcd(3,25) = 1    |  -8 x + 1 y = 1\n",
      "mcd(3,72) = 3    |  1 x + 0 y = 3\n",
      "mcd(25,3) = 1    |  1 x + -8 y = 1\n",
      "mcd(25,25) = 25  |  0 x + 1 y = 25\n",
      "mcd(25,72) = 1   |  -23 x + 8 y = 1\n",
      "mcd(72,3) = 3    |  0 x + 1 y = 3\n",
      "mcd(72,25) = 1   |  8 x + -23 y = 1\n",
      "mcd(72,72) = 72  |  0 x + 1 y = 72\n"
     ]
    }
   ],
   "source": [
    "eea = algorithms.divisibility.eea\n",
    "print('MCD(x,y)'.ljust(15), ' | ', 'Identidad Bézout')\n",
    "print(''.ljust(38,'-'))\n",
    "for x in l:\n",
    "    for y in l:\n",
    "        g,a,b = eea(x,y)\n",
    "        str1 = ''.join(['mcd(',str(x),',',str(y),') = ',str(g)]).ljust(15)\n",
    "        print(str1,' | ',a,'x','+',b,'y =',g)"
   ]
  },
  {
   "cell_type": "markdown",
   "metadata": {},
   "source": [
    "## Congruencias"
   ]
  },
  {
   "cell_type": "markdown",
   "metadata": {},
   "source": [
    "### Teorema chino de los restos"
   ]
  },
  {
   "cell_type": "code",
   "execution_count": 11,
   "metadata": {},
   "outputs": [],
   "source": [
    "ch_remainder = algorithms.chinese_remainder.chinese_remainder\n",
    "\n",
    "def show_and_solve(l,mods):\n",
    "    for i in range(len(l)):\n",
    "        s = r''.join(['$x \\equiv ', str(l[i]), '\\;\\mod{', str(mods[i]), '}$'])\n",
    "        display(Math(s))\n",
    "    print(''.ljust(38,'-'))\n",
    "    display(Math(''.join([\"$\\mathbf{Solución} \\quad x =\",str(ch_remainder(eqs,mods)),'$'])))\n",
    "    "
   ]
  },
  {
   "cell_type": "code",
   "execution_count": 12,
   "metadata": {},
   "outputs": [
    {
     "data": {
      "text/latex": [
       "$\\displaystyle x \\equiv 2\\;\\mod{7}$"
      ],
      "text/plain": [
       "<IPython.core.display.Math object>"
      ]
     },
     "metadata": {},
     "output_type": "display_data"
    },
    {
     "data": {
      "text/latex": [
       "$\\displaystyle x \\equiv 3\\;\\mod{15}$"
      ],
      "text/plain": [
       "<IPython.core.display.Math object>"
      ]
     },
     "metadata": {},
     "output_type": "display_data"
    },
    {
     "data": {
      "text/latex": [
       "$\\displaystyle x \\equiv 5\\;\\mod{2}$"
      ],
      "text/plain": [
       "<IPython.core.display.Math object>"
      ]
     },
     "metadata": {},
     "output_type": "display_data"
    },
    {
     "name": "stdout",
     "output_type": "stream",
     "text": [
      "--------------------------------------\n"
     ]
    },
    {
     "data": {
      "text/latex": [
       "$\\displaystyle \\mathbf{Solución} \\quad x =303$"
      ],
      "text/plain": [
       "<IPython.core.display.Math object>"
      ]
     },
     "metadata": {},
     "output_type": "display_data"
    }
   ],
   "source": [
    "eqs,mods = [Z.build(x) for x in [2,3,5]],[Z.build(x) for x in [7,15,2]]\n",
    "show_and_solve(eqs,mods)"
   ]
  },
  {
   "cell_type": "markdown",
   "metadata": {},
   "source": [
    "## Cuerpos finitos"
   ]
  },
  {
   "cell_type": "markdown",
   "metadata": {},
   "source": [
    "### Inverso de un elemento"
   ]
  },
  {
   "cell_type": "code",
   "execution_count": 13,
   "metadata": {},
   "outputs": [],
   "source": [
    "# Esto no lo tenemos, aunque a efectos prácticos en un cuerpo finito es elevar x a ord(grupo multiplicativo)-1"
   ]
  },
  {
   "cell_type": "markdown",
   "metadata": {},
   "source": [
    "### Irreducibilidad de un polinomio"
   ]
  },
  {
   "cell_type": "code",
   "execution_count": 14,
   "metadata": {},
   "outputs": [],
   "source": [
    "# WIP"
   ]
  },
  {
   "cell_type": "markdown",
   "metadata": {},
   "source": [
    "### Algoritmo de factorización de Berlekamp"
   ]
  },
  {
   "cell_type": "code",
   "execution_count": 15,
   "metadata": {},
   "outputs": [],
   "source": [
    "# WIP"
   ]
  },
  {
   "cell_type": "markdown",
   "metadata": {},
   "source": [
    "### Logaritmo discreto en cuerpos $\\frac{F_q[X]}{f(X)}$"
   ]
  },
  {
   "cell_type": "code",
   "execution_count": 16,
   "metadata": {},
   "outputs": [
    {
     "name": "stdout",
     "output_type": "stream",
     "text": [
      "Ninguna potencia de 2 es 5 en ℤ/7ℤ\n"
     ]
    }
   ],
   "source": [
    "d_log = algorithms.discrete_log.discrete_log\n",
    "# Cuerpos finitos esencialmente, primero un ejemplo simple\n",
    "two,five = F7.build(2),F7.build(5)\n",
    "# Esto no funciona como debería\n",
    "d = d_log(two,five)\n",
    "if d is None:\n",
    "    print('Ninguna potencia de',two,'es',five,'en',two.ring)"
   ]
  },
  {
   "cell_type": "code",
   "execution_count": 17,
   "metadata": {},
   "outputs": [
    {
     "name": "stdout",
     "output_type": "stream",
     "text": [
      "logdiscreto(base=5,2,cuerpo=ℤ/7ℤ) = 4\n",
      "5 ^ 4 = 2\n"
     ]
    }
   ],
   "source": [
    "d = d_log(five,two)\n",
    "s = ''.join(['logdiscreto(base=',str(five),',',str(two),',cuerpo=',str(two.ring),') = ',str(d)])\n",
    "print(s)\n",
    "print(five,'^',d,'=',five**d)"
   ]
  },
  {
   "cell_type": "markdown",
   "metadata": {},
   "source": [
    "## Primalidad"
   ]
  },
  {
   "cell_type": "markdown",
   "metadata": {},
   "source": [
    "### Test de primalidad de AKS"
   ]
  },
  {
   "cell_type": "code",
   "execution_count": 19,
   "metadata": {
    "scrolled": true
   },
   "outputs": [
    {
     "name": "stdout",
     "output_type": "stream",
     "text": [
      "Es 2 primo? Sí\n",
      "Es 3 primo? Sí\n",
      "Es 5 primo? Sí\n",
      "Es 7 primo? Sí\n",
      "Es 11 primo? Sí\n",
      "Es 9 primo? No\n",
      "Es 12 primo? No\n",
      "Es 33 primo? No\n"
     ]
    }
   ],
   "source": [
    "is_prime_aks = algorithms.primality.is_prime_aks\n",
    "\n",
    "primes = [2,3,5,7,11] \n",
    "non_primes = [9,12,33]\n",
    "\n",
    "#797 takes forever to compute\n",
    "for x in primes+non_primes:\n",
    "    print('Es',x,'primo? ',end='')\n",
    "    if is_prime_aks(x):\n",
    "        print(\"Sí\")\n",
    "    else:\n",
    "        print(\"No\")"
   ]
  },
  {
   "cell_type": "code",
   "execution_count": 23,
   "metadata": {},
   "outputs": [
    {
     "data": {
      "text/plain": [
       "True"
      ]
     },
     "execution_count": 23,
     "metadata": {},
     "output_type": "execute_result"
    }
   ],
   "source": [
    "is_prime_aks(53)"
   ]
  },
  {
   "cell_type": "markdown",
   "metadata": {},
   "source": [
    "### Test de primalidad de Miller-Rabin"
   ]
  },
  {
   "cell_type": "code",
   "execution_count": 20,
   "metadata": {},
   "outputs": [
    {
     "name": "stdout",
     "output_type": "stream",
     "text": [
      "Es 2 primo? Probablemente\n",
      "Es 3 primo? Probablemente\n",
      "Es 5 primo? Probablemente\n",
      "Es 7 primo? Probablemente\n",
      "Es 11 primo? Probablemente\n",
      "Es 797 primo? Probablemente\n",
      "Es 34897 primo? Probablemente\n",
      "Es 3329 primo? Probablemente\n",
      "Es 9 primo? No\n",
      "Es 12 primo? No\n",
      "Es 33 primo? No\n",
      "Es 2048 primo? No\n",
      "Es 116172113 primo? No\n"
     ]
    }
   ],
   "source": [
    "is_prime_miller_rabin = algorithms.primality.is_prime_miller_rabin\n",
    "\n",
    "primes = [2,3,5,7,11,797,34897,3329]\n",
    "non_primes = [9,12,33,2048,116172113]\n",
    "\n",
    "for x in primes+non_primes:\n",
    "    print('Es',x,'primo? ',end='')\n",
    "    if is_prime_miller_rabin(x):\n",
    "        print(\"Probablemente\")\n",
    "    else:\n",
    "        print(\"No\")"
   ]
  },
  {
   "cell_type": "code",
   "execution_count": 21,
   "metadata": {},
   "outputs": [
    {
     "data": {
      "text/plain": [
       "True"
      ]
     },
     "execution_count": 21,
     "metadata": {},
     "output_type": "execute_result"
    }
   ],
   "source": [
    "# 123455546293 es primo\n",
    "is_prime_miller_rabin(123455546293)"
   ]
  },
  {
   "cell_type": "code",
   "execution_count": 22,
   "metadata": {},
   "outputs": [
    {
     "data": {
      "text/plain": [
       "False"
      ]
     },
     "execution_count": 22,
     "metadata": {},
     "output_type": "execute_result"
    }
   ],
   "source": [
    "# 123455546297 no lo es\n",
    "is_prime_miller_rabin(123455546297)"
   ]
  },
  {
   "cell_type": "code",
   "execution_count": null,
   "metadata": {},
   "outputs": [],
   "source": []
  }
 ],
 "metadata": {
  "kernelspec": {
   "display_name": "Python 3",
   "language": "python",
   "name": "python3"
  },
  "language_info": {
   "codemirror_mode": {
    "name": "ipython",
    "version": 3
   },
   "file_extension": ".py",
   "mimetype": "text/x-python",
   "name": "python",
   "nbconvert_exporter": "python",
   "pygments_lexer": "ipython3",
   "version": "3.7.3"
  }
 },
 "nbformat": 4,
 "nbformat_minor": 4
}
