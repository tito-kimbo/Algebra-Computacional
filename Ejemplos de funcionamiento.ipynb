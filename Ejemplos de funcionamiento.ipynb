{
 "cells": [
  {
   "cell_type": "markdown",
   "metadata": {},
   "source": [
    "En este archivo se muestran algunos de los ejemplos de funcionamiento de la biblioteca de álgebra computacional que hemos construido."
   ]
  },
  {
   "cell_type": "code",
   "execution_count": 1,
   "metadata": {},
   "outputs": [],
   "source": [
    "from python_alcp import algorithms, examples, structures\n",
    "from IPython.display import Math,display"
   ]
  },
  {
   "cell_type": "markdown",
   "metadata": {},
   "source": [
    "# Estructuras"
   ]
  },
  {
   "cell_type": "markdown",
   "metadata": {},
   "source": [
    "## Anillos"
   ]
  },
  {
   "cell_type": "code",
   "execution_count": 2,
   "metadata": {},
   "outputs": [
    {
     "name": "stdout",
     "output_type": "stream",
     "text": [
      "ℤ es un anillo. Algunos de sus elementos son  0 1 -1\n"
     ]
    }
   ],
   "source": [
    "Z = examples.rings.Z\n",
    "print(Z, \"es un anillo. Algunos de sus elementos son \",Z.build(0),Z.build(1),Z.build(-1))"
   ]
  },
  {
   "cell_type": "markdown",
   "metadata": {},
   "source": [
    "## Ideales"
   ]
  },
  {
   "cell_type": "code",
   "execution_count": 3,
   "metadata": {},
   "outputs": [
    {
     "name": "stdout",
     "output_type": "stream",
     "text": [
      "7ℤ es maximal? True\n"
     ]
    }
   ],
   "source": [
    "Z7 = Z*7\n",
    "print(Z7,'es maximal?', Z7.is_maximal())"
   ]
  },
  {
   "cell_type": "markdown",
   "metadata": {},
   "source": [
    "## Cocientes"
   ]
  },
  {
   "cell_type": "code",
   "execution_count": 4,
   "metadata": {},
   "outputs": [
    {
     "name": "stdout",
     "output_type": "stream",
     "text": [
      "Algunas operaciones en (ℤ/7ℤ)\n",
      "[15]+[2]= 3\n",
      "[3]+[4]= 0\n",
      "[171]+[324]= 5\n",
      "[33]+[13]= 4\n"
     ]
    }
   ],
   "source": [
    "Z_7Z = Z/Z7\n",
    "print(\"Algunas operaciones en\",Z_7Z)\n",
    "print(\"[15]+[2]=\",Z_7Z.build(15)+Z_7Z.build(2))\n",
    "print(\"[3]+[4]=\",Z_7Z.build(3)+Z_7Z.build(4))\n",
    "print(\"[171]+[324]=\",Z_7Z.build(171)+Z_7Z.build(324))\n",
    "print(\"[33]+[13]=\",Z_7Z.build(33)+Z_7Z.build(13))"
   ]
  },
  {
   "cell_type": "markdown",
   "metadata": {},
   "source": [
    "## Polinomios"
   ]
  },
  {
   "cell_type": "code",
   "execution_count": 5,
   "metadata": {},
   "outputs": [
    {
     "data": {
      "text/plain": [
       "ℤ[X]"
      ]
     },
     "execution_count": 5,
     "metadata": {},
     "output_type": "execute_result"
    }
   ],
   "source": [
    "Z_X = Z[\"X\"]\n",
    "Z_X"
   ]
  },
  {
   "cell_type": "code",
   "execution_count": 7,
   "metadata": {},
   "outputs": [
    {
     "name": "stdout",
     "output_type": "stream",
     "text": [
      "Polinomio 1: 3X³ + 2X² + X\n",
      "Polinomio 2: 5X² + 4X + 2\n",
      "P1+P2= 3X³ + 7X² + 5X + 2\n",
      "P1-P2= 3X³ + -3X² + -3X + -2\n",
      "P1*P2= 15X⁵ + 22X⁴ + 19X³ + 8X² + 2X\n",
      "P1^2= 9X⁶ + 12X⁵ + 10X⁴ + 4X³ + X²\n",
      "P1//P2 = 15X + -2\n",
      "P1 mod P2 = 3X + 4\n"
     ]
    }
   ],
   "source": [
    "P1,P2 = Z_X.build([0,1,2,3]),Z_X.build([2,4,5])\n",
    "print(\"Polinomio 1:\",P1)\n",
    "print(\"Polinomio 2:\",P2)\n",
    "print(\"P1+P2=\",P1+P2)\n",
    "print(\"P1-P2=\",P1-P2)\n",
    "print(\"P1*P2=\",P1*P2)\n",
    "print(\"P1^2=\",P1**2)\n",
    "print(\"P1//P2 =\",P1//P2)\n",
    "print(\"P1 mod P2 =\", P1%P2)"
   ]
  },
  {
   "cell_type": "markdown",
   "metadata": {},
   "source": [
    "## Cuerpos finitos"
   ]
  },
  {
   "cell_type": "code",
   "execution_count": 7,
   "metadata": {},
   "outputs": [
    {
     "name": "stdout",
     "output_type": "stream",
     "text": [
      "(ℤ/7ℤ)\n",
      "El cuerpo finito de 7 elementos (ℤ/7ℤ) está generado por 2\n"
     ]
    }
   ],
   "source": [
    "F7 = examples.finite_fields.FiniteField(7)\n",
    "print(F7)\n",
    "print('El cuerpo finito de 7 elementos',F7,'está generado por',F7.generator())"
   ]
  },
  {
   "cell_type": "code",
   "execution_count": 8,
   "metadata": {},
   "outputs": [
    {
     "name": "stdout",
     "output_type": "stream",
     "text": [
      "El cuerpo finito de 49 elementos ((ℤ/7ℤ)[X]/X² + 1(ℤ/7ℤ)[X]) está generado por X\n",
      "Es ((ℤ/7ℤ)[X]/X² + 1(ℤ/7ℤ)[X]) un cuerpo ? True\n"
     ]
    }
   ],
   "source": [
    "F49 = examples.finite_fields.FiniteField(7, [1,0,1])\n",
    "print('El cuerpo finito de 49 elementos',F49,'está generado por',F49.generator())\n",
    "print(f\"Es {F49} un cuerpo ? {F49.is_field()}\")"
   ]
  },
  {
   "cell_type": "markdown",
   "metadata": {},
   "source": [
    "# Algoritmos"
   ]
  },
  {
   "cell_type": "markdown",
   "metadata": {},
   "source": [
    "## Divisibilidad"
   ]
  },
  {
   "cell_type": "markdown",
   "metadata": {},
   "source": [
    "### Máximo común divisor"
   ]
  },
  {
   "cell_type": "code",
   "execution_count": 12,
   "metadata": {},
   "outputs": [
    {
     "name": "stdout",
     "output_type": "stream",
     "text": [
      "mcd(3,3) = 3\n",
      "mcd(3,25) = 1\n",
      "mcd(3,72) = 3\n",
      "mcd(25,3) = 1\n",
      "mcd(25,25) = 25\n",
      "mcd(25,72) = 1\n",
      "mcd(72,3) = 3\n",
      "mcd(72,25) = 1\n",
      "mcd(72,72) = 72\n"
     ]
    }
   ],
   "source": [
    "gcd = algorithms.divisibility.gcd\n",
    "\n",
    "# Example in Z\n",
    "l = [Z.build(3),Z.build(25),Z.build(72)]\n",
    "for x in l:\n",
    "    for y in l:\n",
    "        str1 = ''.join(['mcd(',str(x),',',str(y),') ='])\n",
    "        print(str1,gcd(x,y))"
   ]
  },
  {
   "cell_type": "markdown",
   "metadata": {},
   "source": [
    "### Algoritmo de Euclides extendido"
   ]
  },
  {
   "cell_type": "code",
   "execution_count": 10,
   "metadata": {},
   "outputs": [
    {
     "name": "stdout",
     "output_type": "stream",
     "text": [
      "MCD(x,y)         |  Identidad Bézout\n",
      "--------------------------------------\n",
      "mcd(3,3) = 3     |  0 x + 1 y = 3\n",
      "mcd(3,25) = 1    |  -8 x + 1 y = 1\n",
      "mcd(3,72) = 3    |  1 x + 0 y = 3\n",
      "mcd(25,3) = 1    |  1 x + -8 y = 1\n",
      "mcd(25,25) = 25  |  0 x + 1 y = 25\n",
      "mcd(25,72) = 1   |  -23 x + 8 y = 1\n",
      "mcd(72,3) = 3    |  0 x + 1 y = 3\n",
      "mcd(72,25) = 1   |  8 x + -23 y = 1\n",
      "mcd(72,72) = 72  |  0 x + 1 y = 72\n"
     ]
    }
   ],
   "source": [
    "eea = algorithms.divisibility.eea\n",
    "print('MCD(x,y)'.ljust(15), ' | ', 'Identidad Bézout')\n",
    "print(''.ljust(38,'-'))\n",
    "for x in l:\n",
    "    for y in l:\n",
    "        g,a,b = eea(x,y)\n",
    "        str1 = ''.join(['mcd(',str(x),',',str(y),') = ',str(g)]).ljust(15)\n",
    "        print(str1,' | ',a,'x','+',b,'y =',g)"
   ]
  },
  {
   "cell_type": "markdown",
   "metadata": {},
   "source": [
    "### MCD en un DFU"
   ]
  },
  {
   "cell_type": "code",
   "execution_count": 15,
   "metadata": {},
   "outputs": [
    {
     "name": "stdout",
     "output_type": "stream",
     "text": [
      "X³ + X² + -1\n",
      "223925000X³ + 223925000X² + -223925000\n"
     ]
    }
   ],
   "source": [
    "gcd_dfu = algorithms.gcd_dfu.gcd_dfu\n",
    "gcd = algorithms.divisibility.gcd\n",
    "\n",
    "# Ejemplo 2.1.11\n",
    "P1 = Z_X(-5,-2,9,4,-3,-2,4,2,1)\n",
    "P2 = Z_X(6,7,-11,-13,-2,5)\n",
    "\n",
    "print(gcd_dfu(P1,P2))\n",
    "print(gcd(P1,P2))"
   ]
  },
  {
   "cell_type": "markdown",
   "metadata": {},
   "source": [
    "## Congruencias"
   ]
  },
  {
   "cell_type": "markdown",
   "metadata": {},
   "source": [
    "### Teorema chino de los restos"
   ]
  },
  {
   "cell_type": "code",
   "execution_count": 11,
   "metadata": {},
   "outputs": [],
   "source": [
    "ch_remainder = algorithms.chinese_remainder.chinese_remainder\n",
    "\n",
    "def show_and_solve(l,mods):\n",
    "    for i in range(len(l)):\n",
    "        s = r''.join(['$x \\equiv ', str(l[i]), '\\;\\mod{', str(mods[i]), '}$'])\n",
    "        display(Math(s))\n",
    "    print(''.ljust(38,'-'))\n",
    "    display(Math(''.join([\"$\\mathbf{Solución} \\quad x =\",str(ch_remainder(eqs,mods)),'$'])))\n",
    "    "
   ]
  },
  {
   "cell_type": "code",
   "execution_count": 12,
   "metadata": {},
   "outputs": [
    {
     "data": {
      "text/latex": [
       "$\\displaystyle x \\equiv 2\\;\\mod{7}$"
      ],
      "text/plain": [
       "<IPython.core.display.Math object>"
      ]
     },
     "metadata": {},
     "output_type": "display_data"
    },
    {
     "data": {
      "text/latex": [
       "$\\displaystyle x \\equiv 3\\;\\mod{15}$"
      ],
      "text/plain": [
       "<IPython.core.display.Math object>"
      ]
     },
     "metadata": {},
     "output_type": "display_data"
    },
    {
     "data": {
      "text/latex": [
       "$\\displaystyle x \\equiv 5\\;\\mod{2}$"
      ],
      "text/plain": [
       "<IPython.core.display.Math object>"
      ]
     },
     "metadata": {},
     "output_type": "display_data"
    },
    {
     "name": "stdout",
     "output_type": "stream",
     "text": [
      "--------------------------------------\n"
     ]
    },
    {
     "data": {
      "text/latex": [
       "$\\displaystyle \\mathbf{Solución} \\quad x =303$"
      ],
      "text/plain": [
       "<IPython.core.display.Math object>"
      ]
     },
     "metadata": {},
     "output_type": "display_data"
    }
   ],
   "source": [
    "eqs,mods = [Z.build(x) for x in [2,3,5]],[Z.build(x) for x in [7,15,2]]\n",
    "show_and_solve(eqs,mods)"
   ]
  },
  {
   "cell_type": "markdown",
   "metadata": {},
   "source": [
    "## Cuerpos finitos"
   ]
  },
  {
   "cell_type": "markdown",
   "metadata": {},
   "source": [
    "### Inverso de un elemento"
   ]
  },
  {
   "cell_type": "code",
   "execution_count": 43,
   "metadata": {},
   "outputs": [
    {
     "name": "stdout",
     "output_type": "stream",
     "text": [
      "El inverso de 5X + 2 en ((ℤ/7ℤ)[X]/X² + 1(ℤ/7ℤ)[X]) es 2X + 2\n",
      "(5X + 2) * (2X + 2) = 1\n"
     ]
    }
   ],
   "source": [
    "e = F49([2,5])\n",
    "print(f\"El inverso de {e} en {F49} es {e.inverse()}\")\n",
    "print(f\"({e}) * ({e.inverse()}) = {e*e.inverse()}\")"
   ]
  },
  {
   "cell_type": "markdown",
   "metadata": {},
   "source": [
    "### Irreducibilidad de un polinomio"
   ]
  },
  {
   "cell_type": "code",
   "execution_count": 28,
   "metadata": {},
   "outputs": [
    {
     "name": "stdout",
     "output_type": "stream",
     "text": [
      "El polinomio X² + 1 es irreducible? True\n",
      "El polinomio 2X² + 5 es irreducible? False\n"
     ]
    }
   ],
   "source": [
    "F7X = F7[\"X\"]\n",
    "pol = F7X(1,0,1)\n",
    "print(f\"El polinomio {pol} es irreducible?\", pol.is_prime())\n",
    "pol = F7X(5,0,2)\n",
    "print(f\"El polinomio {pol} es irreducible?\", pol.is_prime())"
   ]
  },
  {
   "cell_type": "markdown",
   "metadata": {},
   "source": [
    "### Algoritmo de factorización de Berlekamp"
   ]
  },
  {
   "cell_type": "code",
   "execution_count": 30,
   "metadata": {},
   "outputs": [],
   "source": [
    "factorize = algorithms.factorization.berlekamp_cantor_zassenhaus\n",
    "# Error print(f\"The irreducible factors of {pol} are {factorize(pol)}\")"
   ]
  },
  {
   "cell_type": "markdown",
   "metadata": {},
   "source": [
    "### Logaritmo discreto en cuerpos $\\frac{F_q[X]}{f(X)}$"
   ]
  },
  {
   "cell_type": "code",
   "execution_count": 31,
   "metadata": {},
   "outputs": [
    {
     "name": "stdout",
     "output_type": "stream",
     "text": [
      "Ninguna potencia de 2 es 5 en (ℤ/7ℤ)\n"
     ]
    }
   ],
   "source": [
    "d_log = algorithms.discrete_log.discrete_log\n",
    "# Cuerpos finitos esencialmente, primero un ejemplo simple\n",
    "two,five = F7.build(2),F7.build(5)\n",
    "# Esto no funciona como debería\n",
    "d = d_log(two,five)\n",
    "if d is None:\n",
    "    print('Ninguna potencia de',two,'es',five,'en',two.ring)"
   ]
  },
  {
   "cell_type": "code",
   "execution_count": 32,
   "metadata": {},
   "outputs": [
    {
     "name": "stdout",
     "output_type": "stream",
     "text": [
      "logdiscreto(base=5,2,cuerpo=(ℤ/7ℤ)) = 4\n",
      "5 ^ 4 = 2\n"
     ]
    }
   ],
   "source": [
    "d = d_log(five,two)\n",
    "s = ''.join(['logdiscreto(base=',str(five),',',str(two),',cuerpo=',str(two.ring),') = ',str(d)])\n",
    "print(s)\n",
    "print(five,'^',d,'=',five**d)"
   ]
  },
  {
   "cell_type": "markdown",
   "metadata": {},
   "source": [
    "## Primalidad"
   ]
  },
  {
   "cell_type": "markdown",
   "metadata": {},
   "source": [
    "### Test de primalidad de AKS"
   ]
  },
  {
   "cell_type": "code",
   "execution_count": 36,
   "metadata": {
    "scrolled": true
   },
   "outputs": [
    {
     "name": "stdout",
     "output_type": "stream",
     "text": [
      "Es 2 primo? Sí\n",
      "Es 3 primo? Sí\n",
      "Es 5 primo? Sí\n",
      "Es 7 primo? Sí\n",
      "Es 11 primo? Sí\n",
      "Es 9 primo? No\n",
      "Es 12 primo? No\n",
      "Es 33 primo? No\n"
     ]
    }
   ],
   "source": [
    "is_prime_aks = algorithms.primality.is_prime_aks\n",
    "\n",
    "primes = [2,3,5,7,11] \n",
    "non_primes = [9,12,33]\n",
    "\n",
    "#797 takes forever to compute\n",
    "for x in primes+non_primes:\n",
    "    print('Es',x,'primo? ',end='')\n",
    "    if is_prime_aks(x):\n",
    "        print(\"Sí\")\n",
    "    else:\n",
    "        print(\"No\")"
   ]
  },
  {
   "cell_type": "code",
   "execution_count": 37,
   "metadata": {},
   "outputs": [
    {
     "data": {
      "text/plain": [
       "True"
      ]
     },
     "execution_count": 37,
     "metadata": {},
     "output_type": "execute_result"
    }
   ],
   "source": [
    "is_prime_aks(53)"
   ]
  },
  {
   "cell_type": "markdown",
   "metadata": {},
   "source": [
    "### Test de primalidad de Miller-Rabin"
   ]
  },
  {
   "cell_type": "code",
   "execution_count": 38,
   "metadata": {},
   "outputs": [
    {
     "name": "stdout",
     "output_type": "stream",
     "text": [
      "Es 2 primo? Probablemente\n",
      "Es 3 primo? Probablemente\n",
      "Es 5 primo? Probablemente\n",
      "Es 7 primo? Probablemente\n",
      "Es 11 primo? Probablemente\n",
      "Es 797 primo? Probablemente\n",
      "Es 34897 primo? Probablemente\n",
      "Es 3329 primo? Probablemente\n",
      "Es 9 primo? No\n",
      "Es 12 primo? No\n",
      "Es 33 primo? No\n",
      "Es 2048 primo? No\n",
      "Es 116172113 primo? "
     ]
    },
    {
     "ename": "KeyboardInterrupt",
     "evalue": "",
     "output_type": "error",
     "traceback": [
      "\u001b[0;31m---------------------------------------------------------------------------\u001b[0m",
      "\u001b[0;31mKeyboardInterrupt\u001b[0m                         Traceback (most recent call last)",
      "\u001b[0;32m<ipython-input-38-e115d4adf847>\u001b[0m in \u001b[0;36m<module>\u001b[0;34m\u001b[0m\n\u001b[1;32m      6\u001b[0m \u001b[0;32mfor\u001b[0m \u001b[0mx\u001b[0m \u001b[0;32min\u001b[0m \u001b[0mprimes\u001b[0m\u001b[0;34m+\u001b[0m\u001b[0mnon_primes\u001b[0m\u001b[0;34m:\u001b[0m\u001b[0;34m\u001b[0m\u001b[0;34m\u001b[0m\u001b[0m\n\u001b[1;32m      7\u001b[0m     \u001b[0mprint\u001b[0m\u001b[0;34m(\u001b[0m\u001b[0;34m'Es'\u001b[0m\u001b[0;34m,\u001b[0m\u001b[0mx\u001b[0m\u001b[0;34m,\u001b[0m\u001b[0;34m'primo? '\u001b[0m\u001b[0;34m,\u001b[0m\u001b[0mend\u001b[0m\u001b[0;34m=\u001b[0m\u001b[0;34m''\u001b[0m\u001b[0;34m)\u001b[0m\u001b[0;34m\u001b[0m\u001b[0;34m\u001b[0m\u001b[0m\n\u001b[0;32m----> 8\u001b[0;31m     \u001b[0;32mif\u001b[0m \u001b[0mis_prime_miller_rabin\u001b[0m\u001b[0;34m(\u001b[0m\u001b[0mx\u001b[0m\u001b[0;34m)\u001b[0m\u001b[0;34m:\u001b[0m\u001b[0;34m\u001b[0m\u001b[0;34m\u001b[0m\u001b[0m\n\u001b[0m\u001b[1;32m      9\u001b[0m         \u001b[0mprint\u001b[0m\u001b[0;34m(\u001b[0m\u001b[0;34m\"Probablemente\"\u001b[0m\u001b[0;34m)\u001b[0m\u001b[0;34m\u001b[0m\u001b[0;34m\u001b[0m\u001b[0m\n\u001b[1;32m     10\u001b[0m     \u001b[0;32melse\u001b[0m\u001b[0;34m:\u001b[0m\u001b[0;34m\u001b[0m\u001b[0;34m\u001b[0m\u001b[0m\n",
      "\u001b[0;32m~/Datos/Documentos/Universidad/ALCP/Algebra-Computacional/python_alcp/algorithms/primality.py\u001b[0m in \u001b[0;36mis_prime_miller_rabin\u001b[0;34m(n, k)\u001b[0m\n\u001b[1;32m     89\u001b[0m         \u001b[0mr\u001b[0m\u001b[0;34m,\u001b[0m\u001b[0md\u001b[0m \u001b[0;34m=\u001b[0m \u001b[0mr\u001b[0m\u001b[0;34m+\u001b[0m\u001b[0;36m1\u001b[0m\u001b[0;34m,\u001b[0m\u001b[0md\u001b[0m\u001b[0;34m//\u001b[0m\u001b[0;36m2\u001b[0m\u001b[0;34m\u001b[0m\u001b[0;34m\u001b[0m\u001b[0m\n\u001b[1;32m     90\u001b[0m     \u001b[0;31m# Run test k times\u001b[0m\u001b[0;34m\u001b[0m\u001b[0;34m\u001b[0m\u001b[0;34m\u001b[0m\u001b[0m\n\u001b[0;32m---> 91\u001b[0;31m     \u001b[0mR\u001b[0m \u001b[0;34m=\u001b[0m \u001b[0mZ\u001b[0m\u001b[0;34m/\u001b[0m\u001b[0;34m(\u001b[0m\u001b[0mZ\u001b[0m\u001b[0;34m*\u001b[0m\u001b[0mn\u001b[0m\u001b[0;34m)\u001b[0m\u001b[0;34m\u001b[0m\u001b[0;34m\u001b[0m\u001b[0m\n\u001b[0m\u001b[1;32m     92\u001b[0m     \u001b[0mone\u001b[0m\u001b[0;34m,\u001b[0m\u001b[0mminus_one\u001b[0m \u001b[0;34m=\u001b[0m \u001b[0mR\u001b[0m\u001b[0;34m.\u001b[0m\u001b[0mbuild\u001b[0m\u001b[0;34m(\u001b[0m\u001b[0;36m1\u001b[0m\u001b[0;34m)\u001b[0m\u001b[0;34m,\u001b[0m\u001b[0mR\u001b[0m\u001b[0;34m.\u001b[0m\u001b[0mbuild\u001b[0m\u001b[0;34m(\u001b[0m\u001b[0mn\u001b[0m\u001b[0;34m.\u001b[0m\u001b[0mval\u001b[0m\u001b[0;34m-\u001b[0m\u001b[0;36m1\u001b[0m\u001b[0;34m)\u001b[0m\u001b[0;34m\u001b[0m\u001b[0;34m\u001b[0m\u001b[0m\n\u001b[1;32m     93\u001b[0m     \u001b[0;32mfor\u001b[0m \u001b[0m_\u001b[0m \u001b[0;32min\u001b[0m \u001b[0mrange\u001b[0m\u001b[0;34m(\u001b[0m\u001b[0mk\u001b[0m\u001b[0;34m)\u001b[0m\u001b[0;34m:\u001b[0m\u001b[0;34m\u001b[0m\u001b[0;34m\u001b[0m\u001b[0m\n",
      "\u001b[0;32m~/Datos/Documentos/Universidad/ALCP/Algebra-Computacional/python_alcp/structures/rings.py\u001b[0m in \u001b[0;36m__truediv__\u001b[0;34m(cls, other)\u001b[0m\n\u001b[1;32m     29\u001b[0m \u001b[0;34m\u001b[0m\u001b[0m\n\u001b[1;32m     30\u001b[0m     \u001b[0;32mdef\u001b[0m \u001b[0m__truediv__\u001b[0m\u001b[0;34m(\u001b[0m\u001b[0mcls\u001b[0m\u001b[0;34m,\u001b[0m \u001b[0mother\u001b[0m\u001b[0;34m)\u001b[0m\u001b[0;34m:\u001b[0m\u001b[0;34m\u001b[0m\u001b[0;34m\u001b[0m\u001b[0m\n\u001b[0;32m---> 31\u001b[0;31m         \u001b[0;32mreturn\u001b[0m \u001b[0mexternals\u001b[0m\u001b[0;34m.\u001b[0m\u001b[0mGetQuotient\u001b[0m\u001b[0;34m(\u001b[0m\u001b[0mcls\u001b[0m\u001b[0;34m,\u001b[0m \u001b[0mother\u001b[0m\u001b[0;34m)\u001b[0m\u001b[0;34m\u001b[0m\u001b[0;34m\u001b[0m\u001b[0m\n\u001b[0m\u001b[1;32m     32\u001b[0m \u001b[0;34m\u001b[0m\u001b[0m\n\u001b[1;32m     33\u001b[0m     \u001b[0;32mdef\u001b[0m \u001b[0m__mul__\u001b[0m\u001b[0;34m(\u001b[0m\u001b[0mcls\u001b[0m\u001b[0;34m,\u001b[0m \u001b[0mother\u001b[0m\u001b[0;34m)\u001b[0m\u001b[0;34m:\u001b[0m\u001b[0;34m\u001b[0m\u001b[0;34m\u001b[0m\u001b[0m\n",
      "\u001b[0;32m~/Datos/Documentos/Universidad/ALCP/Algebra-Computacional/python_alcp/structures/ideals.py\u001b[0m in \u001b[0;36mGetQuotient\u001b[0;34m(ring, ideal)\u001b[0m\n\u001b[1;32m    264\u001b[0m \u001b[0;34m@\u001b[0m\u001b[0mexternal\u001b[0m\u001b[0;34m\u001b[0m\u001b[0;34m\u001b[0m\u001b[0m\n\u001b[1;32m    265\u001b[0m \u001b[0;32mdef\u001b[0m \u001b[0mGetQuotient\u001b[0m\u001b[0;34m(\u001b[0m\u001b[0mring\u001b[0m\u001b[0;34m,\u001b[0m \u001b[0mideal\u001b[0m\u001b[0;34m)\u001b[0m\u001b[0;34m:\u001b[0m\u001b[0;34m\u001b[0m\u001b[0;34m\u001b[0m\u001b[0m\n\u001b[0;32m--> 266\u001b[0;31m     \u001b[0;32mif\u001b[0m \u001b[0mring\u001b[0m\u001b[0;34m.\u001b[0m\u001b[0mis_euclidean\u001b[0m\u001b[0;34m(\u001b[0m\u001b[0;34m)\u001b[0m \u001b[0;32mand\u001b[0m \u001b[0mideal\u001b[0m\u001b[0;34m.\u001b[0m\u001b[0mis_maximal\u001b[0m\u001b[0;34m(\u001b[0m\u001b[0;34m)\u001b[0m\u001b[0;34m:\u001b[0m\u001b[0;34m\u001b[0m\u001b[0;34m\u001b[0m\u001b[0m\n\u001b[0m\u001b[1;32m    267\u001b[0m         \u001b[0;32mreturn\u001b[0m \u001b[0mGetFieldQuotient\u001b[0m\u001b[0;34m(\u001b[0m\u001b[0mring\u001b[0m\u001b[0;34m,\u001b[0m \u001b[0mideal\u001b[0m\u001b[0;34m)\u001b[0m\u001b[0;34m\u001b[0m\u001b[0;34m\u001b[0m\u001b[0m\n\u001b[1;32m    268\u001b[0m     \u001b[0;32melse\u001b[0m\u001b[0;34m:\u001b[0m\u001b[0;34m\u001b[0m\u001b[0;34m\u001b[0m\u001b[0m\n",
      "\u001b[0;32m~/Datos/Documentos/Universidad/ALCP/Algebra-Computacional/python_alcp/structures/ideals.py\u001b[0m in \u001b[0;36mis_maximal\u001b[0;34m(self)\u001b[0m\n\u001b[1;32m     70\u001b[0m         \u001b[0;31m# In a PID, maximal <=> nonzero and prime\u001b[0m\u001b[0;34m\u001b[0m\u001b[0;34m\u001b[0m\u001b[0;34m\u001b[0m\u001b[0m\n\u001b[1;32m     71\u001b[0m         \u001b[0;31m# Also, nonzero and prime <=> ideal = (p) and p is prime\u001b[0m\u001b[0;34m\u001b[0m\u001b[0;34m\u001b[0m\u001b[0;34m\u001b[0m\u001b[0m\n\u001b[0;32m---> 72\u001b[0;31m         \u001b[0;32mreturn\u001b[0m \u001b[0mself\u001b[0m\u001b[0;34m.\u001b[0m\u001b[0mgenerator\u001b[0m\u001b[0;34m.\u001b[0m\u001b[0mis_prime\u001b[0m\u001b[0;34m(\u001b[0m\u001b[0;34m)\u001b[0m\u001b[0;34m\u001b[0m\u001b[0;34m\u001b[0m\u001b[0m\n\u001b[0m\u001b[1;32m     73\u001b[0m \u001b[0;34m\u001b[0m\u001b[0m\n\u001b[1;32m     74\u001b[0m     \u001b[0;32mdef\u001b[0m \u001b[0m__str__\u001b[0m\u001b[0;34m(\u001b[0m\u001b[0mself\u001b[0m\u001b[0;34m)\u001b[0m\u001b[0;34m:\u001b[0m\u001b[0;34m\u001b[0m\u001b[0;34m\u001b[0m\u001b[0m\n",
      "\u001b[0;32m~/Datos/Documentos/Universidad/ALCP/Algebra-Computacional/python_alcp/examples/rings.py\u001b[0m in \u001b[0;36mis_prime\u001b[0;34m(self)\u001b[0m\n\u001b[1;32m     99\u001b[0m \u001b[0;34m\u001b[0m\u001b[0m\n\u001b[1;32m    100\u001b[0m     \u001b[0;32mdef\u001b[0m \u001b[0mis_prime\u001b[0m\u001b[0;34m(\u001b[0m\u001b[0mself\u001b[0m\u001b[0;34m)\u001b[0m\u001b[0;34m:\u001b[0m\u001b[0;34m\u001b[0m\u001b[0;34m\u001b[0m\u001b[0m\n\u001b[0;32m--> 101\u001b[0;31m         \u001b[0;32mfor\u001b[0m \u001b[0mp\u001b[0m \u001b[0;32min\u001b[0m \u001b[0mprimes\u001b[0m\u001b[0;34m(\u001b[0m\u001b[0;34m)\u001b[0m\u001b[0;34m:\u001b[0m\u001b[0;34m\u001b[0m\u001b[0;34m\u001b[0m\u001b[0m\n\u001b[0m\u001b[1;32m    102\u001b[0m             \u001b[0;32mif\u001b[0m \u001b[0mself\u001b[0m\u001b[0;34m.\u001b[0m\u001b[0mval\u001b[0m \u001b[0;34m==\u001b[0m \u001b[0mp\u001b[0m\u001b[0;34m:\u001b[0m\u001b[0;34m\u001b[0m\u001b[0;34m\u001b[0m\u001b[0m\n\u001b[1;32m    103\u001b[0m                 \u001b[0;32mreturn\u001b[0m \u001b[0;32mTrue\u001b[0m\u001b[0;34m\u001b[0m\u001b[0;34m\u001b[0m\u001b[0m\n",
      "\u001b[0;32m~/Datos/Documentos/Universidad/ALCP/Algebra-Computacional/python_alcp/utils.py\u001b[0m in \u001b[0;36m_p\u001b[0;34m()\u001b[0m\n\u001b[1;32m     81\u001b[0m             \u001b[0mprime\u001b[0m \u001b[0;34m=\u001b[0m \u001b[0;32mTrue\u001b[0m\u001b[0;34m\u001b[0m\u001b[0;34m\u001b[0m\u001b[0m\n\u001b[1;32m     82\u001b[0m             \u001b[0;32mfor\u001b[0m \u001b[0mp\u001b[0m \u001b[0;32min\u001b[0m \u001b[0mcurprimes\u001b[0m\u001b[0;34m:\u001b[0m\u001b[0;34m\u001b[0m\u001b[0;34m\u001b[0m\u001b[0m\n\u001b[0;32m---> 83\u001b[0;31m                 \u001b[0;32mif\u001b[0m \u001b[0mi\u001b[0m \u001b[0;34m%\u001b[0m \u001b[0mp\u001b[0m \u001b[0;34m==\u001b[0m \u001b[0;36m0\u001b[0m\u001b[0;34m:\u001b[0m\u001b[0;34m\u001b[0m\u001b[0;34m\u001b[0m\u001b[0m\n\u001b[0m\u001b[1;32m     84\u001b[0m                     \u001b[0mprime\u001b[0m \u001b[0;34m=\u001b[0m \u001b[0;32mFalse\u001b[0m\u001b[0;34m\u001b[0m\u001b[0;34m\u001b[0m\u001b[0m\n\u001b[1;32m     85\u001b[0m                     \u001b[0;32mbreak\u001b[0m\u001b[0;34m\u001b[0m\u001b[0;34m\u001b[0m\u001b[0m\n",
      "\u001b[0;31mKeyboardInterrupt\u001b[0m: "
     ]
    }
   ],
   "source": [
    "is_prime_miller_rabin = algorithms.primality.is_prime_miller_rabin\n",
    "\n",
    "primes = [2,3,5,7,11,797,34897,3329]\n",
    "non_primes = [9,12,33,2048,116172113]\n",
    "\n",
    "for x in primes+non_primes:\n",
    "    print('Es',x,'primo? ',end='')\n",
    "    if is_prime_miller_rabin(x):\n",
    "        print(\"Probablemente\")\n",
    "    else:\n",
    "        print(\"No\")"
   ]
  },
  {
   "cell_type": "code",
   "execution_count": 20,
   "metadata": {},
   "outputs": [
    {
     "data": {
      "text/plain": [
       "True"
      ]
     },
     "execution_count": 21,
     "metadata": {},
     "output_type": "execute_result"
    }
   ],
   "source": [
    "# 123455546293 es primo\n",
    "is_prime_miller_rabin(123455546293)"
   ]
  },
  {
   "cell_type": "code",
   "execution_count": 22,
   "metadata": {},
   "outputs": [
    {
     "data": {
      "text/plain": [
       "False"
      ]
     },
     "execution_count": 22,
     "metadata": {},
     "output_type": "execute_result"
    }
   ],
   "source": [
    "# 123455546297 no lo es\n",
    "is_prime_miller_rabin(123455546297)"
   ]
  },
  {
   "cell_type": "code",
   "execution_count": null,
   "metadata": {},
   "outputs": [],
   "source": []
  }
 ],
 "metadata": {
  "kernelspec": {
   "display_name": "Python 3",
   "language": "python",
   "name": "python3"
  },
  "language_info": {
   "codemirror_mode": {
    "name": "ipython",
    "version": 3
   },
   "file_extension": ".py",
   "mimetype": "text/x-python",
   "name": "python",
   "nbconvert_exporter": "python",
   "pygments_lexer": "ipython3",
   "version": "3.9.1"
  }
 },
 "nbformat": 4,
 "nbformat_minor": 4
}
