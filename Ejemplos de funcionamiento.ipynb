{
 "cells": [
  {
   "cell_type": "markdown",
   "metadata": {},
   "source": [
    "En este archivo se muestran algunos de los ejemplos de funcionamiento de la biblioteca de álgebra computacional que hemos construido."
   ]
  },
  {
   "cell_type": "code",
   "execution_count": 81,
   "metadata": {},
   "outputs": [],
   "source": [
    "import algorithms\n",
    "import structures\n",
    "import examples\n",
    "from IPython.display import Math,display"
   ]
  },
  {
   "cell_type": "markdown",
   "metadata": {},
   "source": [
    "# Estructuras"
   ]
  },
  {
   "cell_type": "markdown",
   "metadata": {},
   "source": [
    "## Anillos"
   ]
  },
  {
   "cell_type": "code",
   "execution_count": 27,
   "metadata": {},
   "outputs": [
    {
     "name": "stdout",
     "output_type": "stream",
     "text": [
      "ℤ es un anillo. Algunos de sus elementos son  0 1 -1\n"
     ]
    }
   ],
   "source": [
    "Z = examples.rings.Z\n",
    "print(Z, \"es un anillo. Algunos de sus elementos son \",Z.build(0),Z.build(1),Z.build(-1))"
   ]
  },
  {
   "cell_type": "markdown",
   "metadata": {},
   "source": [
    "## Ideales"
   ]
  },
  {
   "cell_type": "code",
   "execution_count": 115,
   "metadata": {},
   "outputs": [
    {
     "name": "stdout",
     "output_type": "stream",
     "text": [
      "7ℤ es maximal? True\n"
     ]
    }
   ],
   "source": [
    "Z7 = Z*7\n",
    "print(Z7,'es maximal?', Z7.is_maximal())"
   ]
  },
  {
   "cell_type": "markdown",
   "metadata": {},
   "source": [
    "## Cocientes"
   ]
  },
  {
   "cell_type": "code",
   "execution_count": 118,
   "metadata": {},
   "outputs": [
    {
     "name": "stdout",
     "output_type": "stream",
     "text": [
      "Algunas operaciones en ℤ/7ℤ\n",
      "[15]+[2]= [3]\n",
      "[3]+[4]= [0]\n",
      "[171]+[324]= [5]\n",
      "[33]+[13]= [4]\n"
     ]
    }
   ],
   "source": [
    "Z_7Z = Z/Z7\n",
    "print(\"Algunas operaciones en\",Z_7Z)\n",
    "print(\"[15]+[2]=\",Z_7Z.build(15)+Z_7Z.build(2))\n",
    "print(\"[3]+[4]=\",Z_7Z.build(3)+Z_7Z.build(4))\n",
    "print(\"[171]+[324]=\",Z_7Z.build(171)+Z_7Z.build(324))\n",
    "print(\"[33]+[13]=\",Z_7Z.build(33)+Z_7Z.build(13))"
   ]
  },
  {
   "cell_type": "markdown",
   "metadata": {},
   "source": [
    "## Polinomios"
   ]
  },
  {
   "cell_type": "code",
   "execution_count": 120,
   "metadata": {},
   "outputs": [
    {
     "data": {
      "text/plain": [
       "ℤ[X]"
      ]
     },
     "execution_count": 120,
     "metadata": {},
     "output_type": "execute_result"
    }
   ],
   "source": [
    "Z_X = Z[\"X\"]\n",
    "Z_X"
   ]
  },
  {
   "cell_type": "code",
   "execution_count": 127,
   "metadata": {},
   "outputs": [
    {
     "name": "stdout",
     "output_type": "stream",
     "text": [
      "Polinomio 1: (0 + *X^1 + 2*X^2 + 3*X^3)\n",
      "Polinomio 2: (2 + 4*X^1 + 5*X^2)\n",
      "P1+P2= (2 + 5*X^1 + 7*X^2 + 3*X^3)\n",
      "P1-P2= (-2 + -3*X^1 + -3*X^2 + 3*X^3)\n",
      "P1*P2= (0 + 2*X^1 + 8*X^2 + 19*X^3 + 22*X^4 + 15*X^5)\n",
      "P1^2= (0 + *X^2 + 4*X^3 + 10*X^4 + 12*X^5 + 9*X^6)\n"
     ]
    }
   ],
   "source": [
    "P1,P2 = Z_X.build([0,1,2,3]),Z_X.build([2,4,5])\n",
    "print(\"Polinomio 1:\",P1)\n",
    "print(\"Polinomio 2:\",P2)\n",
    "print(\"P1+P2=\",P1+P2)\n",
    "print(\"P1-P2=\",P1-P2)\n",
    "print(\"P1*P2=\",P1*P2)\n",
    "print(\"P1^2=\",P1**2)\n",
    "# Estas dos no funcionan pero deberían\n",
    "# print(\"P1/P2\",P1/P2)\n",
    "# print(\"P1 mod P2\", P1%P2)"
   ]
  },
  {
   "cell_type": "markdown",
   "metadata": {},
   "source": [
    "## Cuerpos finitos"
   ]
  },
  {
   "cell_type": "code",
   "execution_count": 136,
   "metadata": {},
   "outputs": [
    {
     "data": {
      "text/plain": [
       "ℤ/7ℤ"
      ]
     },
     "execution_count": 136,
     "metadata": {},
     "output_type": "execute_result"
    }
   ],
   "source": [
    "F7 = examples.finite_fields.FiniteField(7)\n",
    "F7\n",
    "# El siguiente código no funciona (el generador no está bien construido)\n",
    "# print('El cuerpo finito de 7 elementos',F7,'está generado por',F7.generator())"
   ]
  },
  {
   "cell_type": "code",
   "execution_count": 139,
   "metadata": {},
   "outputs": [],
   "source": [
    "# Esto también debería funcionar y no funciona (los cuerpos finitos no tienen por qué tener un número primo de elementos)\n",
    "# F49 = examples.finite_fields.FiniteField(49)"
   ]
  },
  {
   "cell_type": "markdown",
   "metadata": {},
   "source": [
    "# Algoritmos"
   ]
  },
  {
   "cell_type": "markdown",
   "metadata": {},
   "source": [
    "## Divisibilidad"
   ]
  },
  {
   "cell_type": "markdown",
   "metadata": {},
   "source": [
    "### Máximo común divisor"
   ]
  },
  {
   "cell_type": "code",
   "execution_count": 133,
   "metadata": {},
   "outputs": [
    {
     "name": "stdout",
     "output_type": "stream",
     "text": [
      "mcd(3,3) = 3\n",
      "mcd(3,25) = 1\n",
      "mcd(3,72) = 3\n",
      "mcd(25,3) = 1\n",
      "mcd(25,25) = 25\n",
      "mcd(25,72) = 1\n",
      "mcd(72,3) = 3\n",
      "mcd(72,25) = 1\n",
      "mcd(72,72) = 72\n"
     ]
    }
   ],
   "source": [
    "gcd = algorithms.divisibility.gcd\n",
    "\n",
    "# Example in Z\n",
    "l = [Z.build(3),Z.build(25),Z.build(72)]\n",
    "for x in l:\n",
    "    for y in l:\n",
    "        str1 = ''.join(['mcd(',str(x),',',str(y),') ='])\n",
    "        print(str1,gcd(x,y))"
   ]
  },
  {
   "cell_type": "markdown",
   "metadata": {},
   "source": [
    "### Algoritmo de Euclides extendido"
   ]
  },
  {
   "cell_type": "code",
   "execution_count": 130,
   "metadata": {},
   "outputs": [
    {
     "name": "stdout",
     "output_type": "stream",
     "text": [
      "MCD(x,y)         |  Identidad Bézout\n",
      "--------------------------------------\n",
      "mcd(3,3) = 3     |  0 x + 1 y = 3\n",
      "mcd(3,25) = 1    |  -8 x + 1 y = 1\n",
      "mcd(3,72) = 3    |  1 x + 0 y = 3\n",
      "mcd(25,3) = 1    |  1 x + -8 y = 1\n",
      "mcd(25,25) = 25  |  0 x + 1 y = 25\n",
      "mcd(25,72) = 1   |  -23 x + 8 y = 1\n",
      "mcd(72,3) = 3    |  0 x + 1 y = 3\n",
      "mcd(72,25) = 1   |  8 x + -23 y = 1\n",
      "mcd(72,72) = 72  |  0 x + 1 y = 72\n"
     ]
    }
   ],
   "source": [
    "eea = algorithms.divisibility.eea\n",
    "print('MCD(x,y)'.ljust(15), ' | ', 'Identidad Bézout')\n",
    "print(''.ljust(38,'-'))\n",
    "for x in l:\n",
    "    for y in l:\n",
    "        g,a,b = eea(x,y)\n",
    "        str1 = ''.join(['mcd(',str(x),',',str(y),') = ',str(g)]).ljust(15)\n",
    "        print(str1,' | ',a,'x','+',b,'y =',g)"
   ]
  },
  {
   "cell_type": "markdown",
   "metadata": {},
   "source": [
    "## Congruencias"
   ]
  },
  {
   "cell_type": "markdown",
   "metadata": {},
   "source": [
    "### Teorema chino de los restos"
   ]
  },
  {
   "cell_type": "code",
   "execution_count": 131,
   "metadata": {},
   "outputs": [],
   "source": [
    "ch_remainder = algorithms.chinese_remainder.chinese_remainder\n",
    "\n",
    "def show_and_solve(l,mods):\n",
    "    for i in range(len(l)):\n",
    "        s = r''.join(['$x \\equiv ', str(l[i]), '\\;\\mod{', str(mods[i]), '}$'])\n",
    "        display(Math(s))\n",
    "    print(''.ljust(38,'-'))\n",
    "    display(Math(''.join([\"$\\mathbf{Solución} \\quad x =\",str(ch_remainder(eqs,mods)),'$'])))\n",
    "    "
   ]
  },
  {
   "cell_type": "code",
   "execution_count": 132,
   "metadata": {},
   "outputs": [
    {
     "data": {
      "text/latex": [
       "$\\displaystyle x \\equiv 2\\;\\mod{7}$"
      ],
      "text/plain": [
       "<IPython.core.display.Math object>"
      ]
     },
     "metadata": {},
     "output_type": "display_data"
    },
    {
     "data": {
      "text/latex": [
       "$\\displaystyle x \\equiv 3\\;\\mod{15}$"
      ],
      "text/plain": [
       "<IPython.core.display.Math object>"
      ]
     },
     "metadata": {},
     "output_type": "display_data"
    },
    {
     "data": {
      "text/latex": [
       "$\\displaystyle x \\equiv 5\\;\\mod{2}$"
      ],
      "text/plain": [
       "<IPython.core.display.Math object>"
      ]
     },
     "metadata": {},
     "output_type": "display_data"
    },
    {
     "name": "stdout",
     "output_type": "stream",
     "text": [
      "--------------------------------------\n"
     ]
    },
    {
     "data": {
      "text/latex": [
       "$\\displaystyle \\mathbf{Solución} \\quad x =303$"
      ],
      "text/plain": [
       "<IPython.core.display.Math object>"
      ]
     },
     "metadata": {},
     "output_type": "display_data"
    }
   ],
   "source": [
    "eqs,mods = [Z.build(x) for x in [2,3,5]],[Z.build(x) for x in [7,15,2]]\n",
    "show_and_solve(eqs,mods)"
   ]
  },
  {
   "cell_type": "markdown",
   "metadata": {},
   "source": [
    "## Cuerpos finitos"
   ]
  },
  {
   "cell_type": "markdown",
   "metadata": {},
   "source": [
    "### Inverso de un elemento"
   ]
  },
  {
   "cell_type": "code",
   "execution_count": null,
   "metadata": {},
   "outputs": [],
   "source": [
    "# Esto no lo tenemos, aunque a efectos prácticos en un cuerpo finito es elevar x a ord(grupo multiplicativo)-1"
   ]
  },
  {
   "cell_type": "markdown",
   "metadata": {},
   "source": [
    "### Irreducibilidad de un polinomio"
   ]
  },
  {
   "cell_type": "code",
   "execution_count": 140,
   "metadata": {},
   "outputs": [],
   "source": [
    "# WIP"
   ]
  },
  {
   "cell_type": "markdown",
   "metadata": {},
   "source": [
    "### Algoritmo de factorización de Berlekamp"
   ]
  },
  {
   "cell_type": "code",
   "execution_count": 141,
   "metadata": {},
   "outputs": [],
   "source": [
    "# WIP"
   ]
  },
  {
   "cell_type": "markdown",
   "metadata": {},
   "source": [
    "### Logaritmo discreto en cuerpos $\\frac{F_q[X]}{f(X)}$"
   ]
  },
  {
   "cell_type": "code",
   "execution_count": 150,
   "metadata": {},
   "outputs": [
    {
     "name": "stdout",
     "output_type": "stream",
     "text": [
      "logdiscreto(base=2,5,cuerpo=ℤ/7ℤ) = None\n",
      "2 ^ None = None\n"
     ]
    }
   ],
   "source": [
    "d_log = algorithms.discrete_log.discrete_log\n",
    "# Cuerpos finitos esencialmente, primero un ejemplo simple\n",
    "two,five = F7.build(2),F7.build(5)\n",
    "# Esto no funciona como debería\n",
    "d = d_log(two,five)\n",
    "s = ''.join(['logdiscreto(base=',str(two),',',str(five),',cuerpo=',str(two.ring),') = ',str(d)])\n",
    "print(s)\n",
    "print(two,'^',d,'=',two**d)"
   ]
  },
  {
   "cell_type": "markdown",
   "metadata": {},
   "source": [
    "## Primalidad"
   ]
  },
  {
   "cell_type": "markdown",
   "metadata": {},
   "source": [
    "### Test de primalidad de AKS"
   ]
  },
  {
   "cell_type": "code",
   "execution_count": 28,
   "metadata": {
    "scrolled": true
   },
   "outputs": [
    {
     "name": "stdout",
     "output_type": "stream",
     "text": [
      "Es 2 primo? Sí\n",
      "Es 3 primo? Sí\n",
      "Es 5 primo? Sí\n",
      "Es 7 primo? Sí\n",
      "Es 11 primo? Sí\n",
      "Es 797 primo? Sí\n",
      "Es 34897 primo? Sí\n",
      "Es 3329 primo? Sí\n",
      "Es 9 primo? No\n",
      "Es 12 primo? No\n",
      "Es 33 primo? No\n",
      "Es 2048 primo? No\n",
      "Es 116172113 primo? Sí\n"
     ]
    }
   ],
   "source": [
    "is_prime_aks = algorithms.primality.is_prime_aks\n",
    "\n",
    "primes = [2,3,5,7,11,797,34897,3329]\n",
    "non_primes = [9,12,33,2048,116172113]\n",
    "\n",
    "for x in primes+non_primes:\n",
    "    print('Es',x,'primo? ',end='')\n",
    "    if is_prime_aks(x):\n",
    "        print(\"Sí\")\n",
    "    else:\n",
    "        print(\"No\")"
   ]
  },
  {
   "cell_type": "markdown",
   "metadata": {},
   "source": [
    "### Test de primalidad de Miller-Rabin"
   ]
  },
  {
   "cell_type": "code",
   "execution_count": 23,
   "metadata": {},
   "outputs": [
    {
     "name": "stdout",
     "output_type": "stream",
     "text": [
      "Es 2 primo? Probablemente\n",
      "Es 3 primo? Probablemente\n",
      "Es 5 primo? Probablemente\n",
      "Es 7 primo? Probablemente\n",
      "Es 11 primo? Probablemente\n",
      "Es 797 primo? Probablemente\n",
      "Es 34897 primo? Probablemente\n",
      "Es 3329 primo? Probablemente\n",
      "Es 9 primo? No\n",
      "Es 12 primo? No\n",
      "Es 33 primo? No\n",
      "Es 2048 primo? No\n",
      "Es 116172113 primo? No\n"
     ]
    }
   ],
   "source": [
    "is_prime_miller_rabin = algorithms.primality.is_prime_miller_rabin\n",
    "\n",
    "primes = [2,3,5,7,11,797,34897,3329]\n",
    "non_primes = [9,12,33,2048,116172113]\n",
    "\n",
    "for x in primes+non_primes:\n",
    "    print('Es',x,'primo? ',end='')\n",
    "    if is_prime_miller_rabin(x):\n",
    "        print(\"Probablemente\")\n",
    "    else:\n",
    "        print(\"No\")"
   ]
  },
  {
   "cell_type": "code",
   "execution_count": 24,
   "metadata": {},
   "outputs": [
    {
     "data": {
      "text/plain": [
       "True"
      ]
     },
     "execution_count": 24,
     "metadata": {},
     "output_type": "execute_result"
    }
   ],
   "source": [
    "# 123455546293 es primo\n",
    "is_prime_miller_rabin(123455546293)"
   ]
  },
  {
   "cell_type": "code",
   "execution_count": 25,
   "metadata": {},
   "outputs": [
    {
     "data": {
      "text/plain": [
       "False"
      ]
     },
     "execution_count": 25,
     "metadata": {},
     "output_type": "execute_result"
    }
   ],
   "source": [
    "# 123455546297 no lo es\n",
    "is_prime_miller_rabin(123455546297)"
   ]
  },
  {
   "cell_type": "code",
   "execution_count": null,
   "metadata": {},
   "outputs": [],
   "source": []
  }
 ],
 "metadata": {
  "kernelspec": {
   "display_name": "Python 3",
   "language": "python",
   "name": "python3"
  },
  "language_info": {
   "codemirror_mode": {
    "name": "ipython",
    "version": 3
   },
   "file_extension": ".py",
   "mimetype": "text/x-python",
   "name": "python",
   "nbconvert_exporter": "python",
   "pygments_lexer": "ipython3",
   "version": "3.7.3"
  }
 },
 "nbformat": 4,
 "nbformat_minor": 4
}
