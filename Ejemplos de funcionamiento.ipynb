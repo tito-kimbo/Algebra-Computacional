{
 "cells": [
  {
   "cell_type": "markdown",
   "metadata": {},
   "source": [
    "En este archivo se muestran algunos de los ejemplos de funcionamiento de la biblioteca de álgebra computacional que hemos construido."
   ]
  },
  {
   "cell_type": "code",
   "execution_count": 81,
   "metadata": {},
   "outputs": [],
   "source": [
    "import algorithms\n",
    "import structures\n",
    "import examples\n",
    "from IPython.display import Math,display"
   ]
  },
  {
   "cell_type": "code",
   "execution_count": null,
   "metadata": {},
   "outputs": [],
   "source": []
  },
  {
   "cell_type": "markdown",
   "metadata": {},
   "source": [
    "# Estructuras"
   ]
  },
  {
   "cell_type": "markdown",
   "metadata": {},
   "source": [
    "## Anillos"
   ]
  },
  {
   "cell_type": "code",
   "execution_count": 27,
   "metadata": {},
   "outputs": [
    {
     "name": "stdout",
     "output_type": "stream",
     "text": [
      "ℤ es un anillo. Algunos de sus elementos son  0 1 -1\n"
     ]
    }
   ],
   "source": [
    "Z = examples.rings.Z\n",
    "print(Z, \"es un anillo. Algunos de sus elementos son \",Z.build(0),Z.build(1),Z.build(-1))"
   ]
  },
  {
   "cell_type": "code",
   "execution_count": null,
   "metadata": {},
   "outputs": [],
   "source": []
  },
  {
   "cell_type": "code",
   "execution_count": null,
   "metadata": {},
   "outputs": [],
   "source": []
  },
  {
   "cell_type": "code",
   "execution_count": null,
   "metadata": {},
   "outputs": [],
   "source": []
  },
  {
   "cell_type": "code",
   "execution_count": null,
   "metadata": {},
   "outputs": [],
   "source": []
  },
  {
   "cell_type": "markdown",
   "metadata": {},
   "source": [
    "# Algoritmos"
   ]
  },
  {
   "cell_type": "code",
   "execution_count": null,
   "metadata": {},
   "outputs": [],
   "source": []
  },
  {
   "cell_type": "markdown",
   "metadata": {},
   "source": [
    "## Divisibilidad"
   ]
  },
  {
   "cell_type": "markdown",
   "metadata": {},
   "source": [
    "### Máximo común divisor"
   ]
  },
  {
   "cell_type": "code",
   "execution_count": 54,
   "metadata": {},
   "outputs": [
    {
     "name": "stdout",
     "output_type": "stream",
     "text": [
      "gcd(3,3) = 3\n",
      "gcd(3,25) = 1\n",
      "gcd(3,72) = 3\n",
      "gcd(25,3) = 1\n",
      "gcd(25,25) = 25\n",
      "gcd(25,72) = 1\n",
      "gcd(72,3) = 3\n",
      "gcd(72,25) = 1\n",
      "gcd(72,72) = 72\n"
     ]
    }
   ],
   "source": [
    "gcd = algorithms.divisibility.gcd\n",
    "\n",
    "# Example in Z\n",
    "l = [Z.build(3),Z.build(25),Z.build(72)]\n",
    "for x in l:\n",
    "    for y in l:\n",
    "        str1 = ''.join(['gcd(',str(x),',',str(y),') ='])\n",
    "        print(str1,gcd(x,y))"
   ]
  },
  {
   "cell_type": "markdown",
   "metadata": {},
   "source": [
    "### Algoritmo de Euclides extendido"
   ]
  },
  {
   "cell_type": "code",
   "execution_count": 52,
   "metadata": {},
   "outputs": [
    {
     "name": "stdout",
     "output_type": "stream",
     "text": [
      "GCD(x,y)         |  Bézout Identity\n",
      "--------------------------------------\n",
      "gcd(3,3) = 3     |  0 x + 1 y = 3\n",
      "gcd(3,25) = 1    |  -8 x + 1 y = 1\n",
      "gcd(3,72) = 3    |  1 x + 0 y = 3\n",
      "gcd(25,3) = 1    |  1 x + -8 y = 1\n",
      "gcd(25,25) = 25  |  0 x + 1 y = 25\n",
      "gcd(25,72) = 1   |  -23 x + 8 y = 1\n",
      "gcd(72,3) = 3    |  0 x + 1 y = 3\n",
      "gcd(72,25) = 1   |  8 x + -23 y = 1\n",
      "gcd(72,72) = 72  |  0 x + 1 y = 72\n"
     ]
    }
   ],
   "source": [
    "eea = algorithms.divisibility.eea\n",
    "print('GCD(x,y)'.ljust(15), ' | ', 'Bézout Identity')\n",
    "print(''.ljust(38,'-'))\n",
    "for x in l:\n",
    "    for y in l:\n",
    "        g,a,b = eea(x,y)\n",
    "        str1 = ''.join(['gcd(',str(x),',',str(y),') = ',str(g)]).ljust(15)\n",
    "        print(str1,' | ',a,'x','+',b,'y =',g)"
   ]
  },
  {
   "cell_type": "markdown",
   "metadata": {},
   "source": [
    "## Congruencias"
   ]
  },
  {
   "cell_type": "markdown",
   "metadata": {},
   "source": [
    "### Teorema chino de los restos"
   ]
  },
  {
   "cell_type": "code",
   "execution_count": 101,
   "metadata": {},
   "outputs": [],
   "source": [
    "ch_remainder = algorithms.chinese_remainder.chinese_remainder\n",
    "\n",
    "def show_eqs(l,mods):\n",
    "    for i in range(len(l)):\n",
    "        s = r''.join(['$x \\equiv ', str(l[i]), '\\;\\mod{', str(mods[i]), '}$'])\n",
    "        display(Math(s))"
   ]
  },
  {
   "cell_type": "code",
   "execution_count": 108,
   "metadata": {},
   "outputs": [
    {
     "data": {
      "text/latex": [
       "$\\displaystyle x \\equiv 2\\;\\mod{7}$"
      ],
      "text/plain": [
       "<IPython.core.display.Math object>"
      ]
     },
     "metadata": {},
     "output_type": "display_data"
    },
    {
     "data": {
      "text/latex": [
       "$\\displaystyle x \\equiv 3\\;\\mod{15}$"
      ],
      "text/plain": [
       "<IPython.core.display.Math object>"
      ]
     },
     "metadata": {},
     "output_type": "display_data"
    },
    {
     "data": {
      "text/latex": [
       "$\\displaystyle x \\equiv 5\\;\\mod{2}$"
      ],
      "text/plain": [
       "<IPython.core.display.Math object>"
      ]
     },
     "metadata": {},
     "output_type": "display_data"
    },
    {
     "name": "stdout",
     "output_type": "stream",
     "text": [
      "--------------------------------------\n"
     ]
    },
    {
     "data": {
      "text/latex": [
       "$\\displaystyle \\mathbf{Solution} \\quad x =303$"
      ],
      "text/plain": [
       "<IPython.core.display.Math object>"
      ]
     },
     "metadata": {},
     "output_type": "display_data"
    }
   ],
   "source": [
    "eqs,mods = [Z.build(x) for x in [2,3,5]],[Z.build(x) for x in [7,15,2]]\n",
    "show_eqs(eqs,mods)\n",
    "print(''.ljust(38,'-'))\n",
    "display(Math(''.join([\"$\\mathbf{Solution} \\quad x =\",str(ch_remainder(eqs,mods)),'$'])))"
   ]
  },
  {
   "cell_type": "markdown",
   "metadata": {},
   "source": [
    "## Primalidad"
   ]
  },
  {
   "cell_type": "markdown",
   "metadata": {},
   "source": [
    "### Test de primalidad de AKS"
   ]
  },
  {
   "cell_type": "code",
   "execution_count": 28,
   "metadata": {
    "scrolled": true
   },
   "outputs": [
    {
     "name": "stdout",
     "output_type": "stream",
     "text": [
      "Es 2 primo? Sí\n",
      "Es 3 primo? Sí\n",
      "Es 5 primo? Sí\n",
      "Es 7 primo? Sí\n",
      "Es 11 primo? Sí\n",
      "Es 797 primo? Sí\n",
      "Es 34897 primo? Sí\n",
      "Es 3329 primo? Sí\n",
      "Es 9 primo? No\n",
      "Es 12 primo? No\n",
      "Es 33 primo? No\n",
      "Es 2048 primo? No\n",
      "Es 116172113 primo? Sí\n"
     ]
    }
   ],
   "source": [
    "is_prime_aks = algorithms.primality.is_prime_aks\n",
    "\n",
    "primes = [2,3,5,7,11,797,34897,3329]\n",
    "non_primes = [9,12,33,2048,116172113]\n",
    "\n",
    "for x in primes+non_primes:\n",
    "    print('Es',x,'primo? ',end='')\n",
    "    if is_prime_aks(x):\n",
    "        print(\"Sí\")\n",
    "    else:\n",
    "        print(\"No\")"
   ]
  },
  {
   "cell_type": "markdown",
   "metadata": {},
   "source": [
    "### Test de primalidad de Miller-Rabin"
   ]
  },
  {
   "cell_type": "code",
   "execution_count": 23,
   "metadata": {},
   "outputs": [
    {
     "name": "stdout",
     "output_type": "stream",
     "text": [
      "Es 2 primo? Probablemente\n",
      "Es 3 primo? Probablemente\n",
      "Es 5 primo? Probablemente\n",
      "Es 7 primo? Probablemente\n",
      "Es 11 primo? Probablemente\n",
      "Es 797 primo? Probablemente\n",
      "Es 34897 primo? Probablemente\n",
      "Es 3329 primo? Probablemente\n",
      "Es 9 primo? No\n",
      "Es 12 primo? No\n",
      "Es 33 primo? No\n",
      "Es 2048 primo? No\n",
      "Es 116172113 primo? No\n"
     ]
    }
   ],
   "source": [
    "is_prime_miller_rabin = algorithms.primality.is_prime_miller_rabin\n",
    "\n",
    "primes = [2,3,5,7,11,797,34897,3329]\n",
    "non_primes = [9,12,33,2048,116172113]\n",
    "\n",
    "for x in primes+non_primes:\n",
    "    print('Es',x,'primo? ',end='')\n",
    "    if is_prime_miller_rabin(x):\n",
    "        print(\"Probablemente\")\n",
    "    else:\n",
    "        print(\"No\")"
   ]
  },
  {
   "cell_type": "code",
   "execution_count": 24,
   "metadata": {},
   "outputs": [
    {
     "data": {
      "text/plain": [
       "True"
      ]
     },
     "execution_count": 24,
     "metadata": {},
     "output_type": "execute_result"
    }
   ],
   "source": [
    "# 123455546293 es primo\n",
    "is_prime_miller_rabin(123455546293)"
   ]
  },
  {
   "cell_type": "code",
   "execution_count": 25,
   "metadata": {},
   "outputs": [
    {
     "data": {
      "text/plain": [
       "False"
      ]
     },
     "execution_count": 25,
     "metadata": {},
     "output_type": "execute_result"
    }
   ],
   "source": [
    "# 123455546297 no lo es\n",
    "is_prime_miller_rabin(123455546297)"
   ]
  },
  {
   "cell_type": "code",
   "execution_count": null,
   "metadata": {},
   "outputs": [],
   "source": []
  }
 ],
 "metadata": {
  "kernelspec": {
   "display_name": "Python 3",
   "language": "python",
   "name": "python3"
  },
  "language_info": {
   "codemirror_mode": {
    "name": "ipython",
    "version": 3
   },
   "file_extension": ".py",
   "mimetype": "text/x-python",
   "name": "python",
   "nbconvert_exporter": "python",
   "pygments_lexer": "ipython3",
   "version": "3.7.3"
  }
 },
 "nbformat": 4,
 "nbformat_minor": 4
}
